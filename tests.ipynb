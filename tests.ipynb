{
 "cells": [
  {
   "cell_type": "code",
   "execution_count": 8,
   "metadata": {},
   "outputs": [],
   "source": [
    "import pandas as pd\n",
    "import plotly.graph_objects as go\n",
    "import streamlit_authenticator as stauth"
   ]
  },
  {
   "cell_type": "code",
   "execution_count": 9,
   "metadata": {},
   "outputs": [],
   "source": [
    "heatm = pd.read_csv(\"heatmap_model1.csv\")\n",
    "df = pd.read_csv(\"data_model2.csv\")"
   ]
  },
  {
   "cell_type": "code",
   "execution_count": 9,
   "metadata": {},
   "outputs": [
    {
     "data": {
      "application/vnd.plotly.v1+json": {
       "config": {
        "plotlyServerURL": "https://plot.ly"
       },
       "data": [
        {
         "colorscale": [
          [
           0,
           "#440154"
          ],
          [
           0.1111111111111111,
           "#482878"
          ],
          [
           0.2222222222222222,
           "#3e4989"
          ],
          [
           0.3333333333333333,
           "#31688e"
          ],
          [
           0.4444444444444444,
           "#26828e"
          ],
          [
           0.5555555555555556,
           "#1f9e89"
          ],
          [
           0.6666666666666666,
           "#35b779"
          ],
          [
           0.7777777777777778,
           "#6ece58"
          ],
          [
           0.8888888888888888,
           "#b5de2b"
          ],
          [
           1,
           "#fde725"
          ]
         ],
         "type": "heatmap",
         "x": [
          "MoreThanAvgDonator_Dec_Jan_Feb_quarter",
          "MoreThanAvgDonator_Jun_Jul_Aug_quarter",
          "MoreThanAvgDonator_Mar_Apr_May_quarter",
          "MoreThanAvgDonator_Set_Oct_Nov_quarter",
          "canal_fav=Captacion_digital",
          "canal_fav=Captacion_offline",
          "canal_fav=Desconocido",
          "canal_fav=Emailings",
          "canal_fav=Mailing",
          "canal_fav=Officers",
          "canal_fav=Otros",
          "canal_fav=TLMK",
          "christmas",
          "emergency_prop",
          "oport_amount_count"
         ],
         "y": [
          "cluster_0",
          "cluster_1",
          "cluster_10",
          "cluster_11",
          "cluster_2",
          "cluster_3",
          "cluster_4",
          "cluster_5",
          "cluster_6",
          "cluster_7",
          "cluster_8",
          "cluster_9",
          "cluster_outliers"
         ],
         "z": [
          [
           0,
           0,
           0.3101543784934788,
           0,
           null,
           null,
           null,
           null,
           null,
           null,
           null,
           null,
           0,
           0.001724512991814,
           2.843225978174075
          ],
          [
           1,
           1,
           1,
           1,
           null,
           null,
           null,
           null,
           null,
           null,
           null,
           null,
           0.00006203858800173708,
           0.0558778394884587,
           15.360568273466097
          ],
          [
           1,
           0,
           1,
           1,
           null,
           null,
           null,
           null,
           null,
           null,
           null,
           null,
           0,
           0.0972230000094092,
           5.36077519379845
          ],
          [
           0,
           0,
           0.4404787812840043,
           1,
           null,
           null,
           null,
           null,
           null,
           null,
           null,
           null,
           0,
           0.0146745305055168,
           2.89651795429815
          ],
          [
           0.7729349067377237,
           0.050199847735059,
           0.0620955462504758,
           0.0561476969927674,
           null,
           null,
           null,
           null,
           null,
           null,
           null,
           null,
           1,
           0.0047923537799891,
           3.2709364293871337
          ],
          [
           1,
           1,
           1,
           0,
           null,
           null,
           null,
           null,
           null,
           null,
           null,
           null,
           0,
           0.0863349609103098,
           5.923705136471094
          ],
          [
           0,
           1,
           1,
           0.5294301327088212,
           null,
           null,
           null,
           null,
           null,
           null,
           null,
           null,
           0,
           0.0582396190925753,
           4.648711943793911
          ],
          [
           0.3179597971068946,
           0.3188991170392635,
           0.8065000939319933,
           0.262258125117415,
           null,
           null,
           null,
           null,
           null,
           null,
           null,
           null,
           0.0054480556077399,
           0.4583556992666066,
           2.3680255495021605
          ],
          [
           0,
           1,
           0,
           0.5230318257956449,
           null,
           null,
           null,
           null,
           null,
           null,
           null,
           null,
           0,
           0.0156573919239417,
           3.693132328308208
          ],
          [
           1,
           0,
           0,
           0.9990815857951936,
           null,
           null,
           null,
           null,
           null,
           null,
           null,
           null,
           0,
           0.0003112403694066024,
           3.0754630338282567
          ],
          [
           1,
           1,
           0,
           0.4987017483122728,
           null,
           null,
           null,
           null,
           null,
           null,
           null,
           null,
           0,
           0.0295378145516355,
           4.565345334948935
          ],
          [
           1,
           0,
           0.9998520928856678,
           0,
           null,
           null,
           null,
           null,
           null,
           null,
           null,
           null,
           0,
           0.0336897555655094,
           3.266676527140956
          ],
          [
           0.5174973488865323,
           0.6129374337221634,
           0.5440084835630965,
           0.2555673382820784,
           null,
           null,
           null,
           null,
           null,
           null,
           null,
           null,
           0.5185577942735949,
           0.3962882533611029,
           5.5397667020148464
          ]
         ]
        }
       ],
       "layout": {
        "template": {
         "data": {
          "candlestick": [
           {
            "decreasing": {
             "line": {
              "color": "#000033"
             }
            },
            "increasing": {
             "line": {
              "color": "#000032"
             }
            },
            "type": "candlestick"
           }
          ],
          "contour": [
           {
            "colorscale": [
             [
              0,
              "#000011"
             ],
             [
              0.1111111111111111,
              "#000012"
             ],
             [
              0.2222222222222222,
              "#000013"
             ],
             [
              0.3333333333333333,
              "#000014"
             ],
             [
              0.4444444444444444,
              "#000015"
             ],
             [
              0.5555555555555556,
              "#000016"
             ],
             [
              0.6666666666666666,
              "#000017"
             ],
             [
              0.7777777777777778,
              "#000018"
             ],
             [
              0.8888888888888888,
              "#000019"
             ],
             [
              1,
              "#000020"
             ]
            ],
            "type": "contour"
           }
          ],
          "contourcarpet": [
           {
            "colorscale": [
             [
              0,
              "#000011"
             ],
             [
              0.1111111111111111,
              "#000012"
             ],
             [
              0.2222222222222222,
              "#000013"
             ],
             [
              0.3333333333333333,
              "#000014"
             ],
             [
              0.4444444444444444,
              "#000015"
             ],
             [
              0.5555555555555556,
              "#000016"
             ],
             [
              0.6666666666666666,
              "#000017"
             ],
             [
              0.7777777777777778,
              "#000018"
             ],
             [
              0.8888888888888888,
              "#000019"
             ],
             [
              1,
              "#000020"
             ]
            ],
            "type": "contourcarpet"
           }
          ],
          "heatmap": [
           {
            "colorscale": [
             [
              0,
              "#000011"
             ],
             [
              0.1111111111111111,
              "#000012"
             ],
             [
              0.2222222222222222,
              "#000013"
             ],
             [
              0.3333333333333333,
              "#000014"
             ],
             [
              0.4444444444444444,
              "#000015"
             ],
             [
              0.5555555555555556,
              "#000016"
             ],
             [
              0.6666666666666666,
              "#000017"
             ],
             [
              0.7777777777777778,
              "#000018"
             ],
             [
              0.8888888888888888,
              "#000019"
             ],
             [
              1,
              "#000020"
             ]
            ],
            "type": "heatmap"
           }
          ],
          "histogram2d": [
           {
            "colorscale": [
             [
              0,
              "#000011"
             ],
             [
              0.1111111111111111,
              "#000012"
             ],
             [
              0.2222222222222222,
              "#000013"
             ],
             [
              0.3333333333333333,
              "#000014"
             ],
             [
              0.4444444444444444,
              "#000015"
             ],
             [
              0.5555555555555556,
              "#000016"
             ],
             [
              0.6666666666666666,
              "#000017"
             ],
             [
              0.7777777777777778,
              "#000018"
             ],
             [
              0.8888888888888888,
              "#000019"
             ],
             [
              1,
              "#000020"
             ]
            ],
            "type": "histogram2d"
           }
          ],
          "icicle": [
           {
            "textfont": {
             "color": "white"
            },
            "type": "icicle"
           }
          ],
          "sankey": [
           {
            "textfont": {
             "color": "#000036"
            },
            "type": "sankey"
           }
          ],
          "scatter": [
           {
            "marker": {
             "line": {
              "width": 0
             }
            },
            "type": "scatter"
           }
          ],
          "table": [
           {
            "cells": {
             "fill": {
              "color": "#000038"
             },
             "font": {
              "color": "#000037"
             },
             "line": {
              "color": "#000039"
             }
            },
            "header": {
             "fill": {
              "color": "#000040"
             },
             "font": {
              "color": "#000036"
             },
             "line": {
              "color": "#000039"
             }
            },
            "type": "table"
           }
          ],
          "waterfall": [
           {
            "connector": {
             "line": {
              "color": "#000036",
              "width": 2
             }
            },
            "decreasing": {
             "marker": {
              "color": "#000033"
             }
            },
            "increasing": {
             "marker": {
              "color": "#000032"
             }
            },
            "totals": {
             "marker": {
              "color": "#000034"
             }
            },
            "type": "waterfall"
           }
          ]
         },
         "layout": {
          "coloraxis": {
           "colorscale": [
            [
             0,
             "#000011"
            ],
            [
             0.1111111111111111,
             "#000012"
            ],
            [
             0.2222222222222222,
             "#000013"
            ],
            [
             0.3333333333333333,
             "#000014"
            ],
            [
             0.4444444444444444,
             "#000015"
            ],
            [
             0.5555555555555556,
             "#000016"
            ],
            [
             0.6666666666666666,
             "#000017"
            ],
            [
             0.7777777777777778,
             "#000018"
            ],
            [
             0.8888888888888888,
             "#000019"
            ],
            [
             1,
             "#000020"
            ]
           ]
          },
          "colorscale": {
           "diverging": [
            [
             0,
             "#000021"
            ],
            [
             0.1,
             "#000022"
            ],
            [
             0.2,
             "#000023"
            ],
            [
             0.3,
             "#000024"
            ],
            [
             0.4,
             "#000025"
            ],
            [
             0.5,
             "#000026"
            ],
            [
             0.6,
             "#000027"
            ],
            [
             0.7,
             "#000028"
            ],
            [
             0.8,
             "#000029"
            ],
            [
             0.9,
             "#000030"
            ],
            [
             1,
             "#000031"
            ]
           ],
           "sequential": [
            [
             0,
             "#000011"
            ],
            [
             0.1111111111111111,
             "#000012"
            ],
            [
             0.2222222222222222,
             "#000013"
            ],
            [
             0.3333333333333333,
             "#000014"
            ],
            [
             0.4444444444444444,
             "#000015"
            ],
            [
             0.5555555555555556,
             "#000016"
            ],
            [
             0.6666666666666666,
             "#000017"
            ],
            [
             0.7777777777777778,
             "#000018"
            ],
            [
             0.8888888888888888,
             "#000019"
            ],
            [
             1,
             "#000020"
            ]
           ],
           "sequentialminus": [
            [
             0,
             "#000011"
            ],
            [
             0.1111111111111111,
             "#000012"
            ],
            [
             0.2222222222222222,
             "#000013"
            ],
            [
             0.3333333333333333,
             "#000014"
            ],
            [
             0.4444444444444444,
             "#000015"
            ],
            [
             0.5555555555555556,
             "#000016"
            ],
            [
             0.6666666666666666,
             "#000017"
            ],
            [
             0.7777777777777778,
             "#000018"
            ],
            [
             0.8888888888888888,
             "#000019"
            ],
            [
             1,
             "#000020"
            ]
           ]
          },
          "colorway": [
           "#000001",
           "#000002",
           "#000003",
           "#000004",
           "#000005",
           "#000006",
           "#000007",
           "#000008",
           "#000009",
           "#000010"
          ]
         }
        },
        "title": {
         "text": "Cluster Means Heatmap"
        },
        "xaxis": {
         "title": {
          "text": "Feature"
         }
        },
        "yaxis": {
         "title": {
          "text": "Cluster Label"
         }
        }
       }
      }
     },
     "metadata": {},
     "output_type": "display_data"
    }
   ],
   "source": [
    "data_pivoted = heatm.pivot(index='cluster_label', columns='feature', values='mean')\n",
    "\n",
    "# Create the heatmap\n",
    "fig = go.Figure(data=go.Heatmap(\n",
    "                   z=data_pivoted.values,\n",
    "                   x=data_pivoted.columns,\n",
    "                   y=data_pivoted.index,\n",
    "                   colorscale='Viridis'))\n",
    "\n",
    "# Set axis titles and plot title\n",
    "fig.update_layout(title='Cluster Means Heatmap',\n",
    "                  xaxis_title='Feature',\n",
    "                  yaxis_title='Cluster Label')\n",
    "\n",
    "# Show the plot\n",
    "fig.show()"
   ]
  },
  {
   "cell_type": "code",
   "execution_count": 5,
   "metadata": {},
   "outputs": [
    {
     "data": {
      "text/html": [
       "<div>\n",
       "<style scoped>\n",
       "    .dataframe tbody tr th:only-of-type {\n",
       "        vertical-align: middle;\n",
       "    }\n",
       "\n",
       "    .dataframe tbody tr th {\n",
       "        vertical-align: top;\n",
       "    }\n",
       "\n",
       "    .dataframe thead th {\n",
       "        text-align: right;\n",
       "    }\n",
       "</style>\n",
       "<table border=\"1\" class=\"dataframe\">\n",
       "  <thead>\n",
       "    <tr style=\"text-align: right;\">\n",
       "      <th></th>\n",
       "      <th>cluster_label</th>\n",
       "      <th>feature</th>\n",
       "      <th>is_numeric_feature</th>\n",
       "      <th>global_mean</th>\n",
       "      <th>mean</th>\n",
       "      <th>global_std</th>\n",
       "      <th>std</th>\n",
       "      <th>proportion</th>\n",
       "      <th>global_proportion</th>\n",
       "      <th>relative_importance</th>\n",
       "    </tr>\n",
       "  </thead>\n",
       "  <tbody>\n",
       "    <tr>\n",
       "      <th>0</th>\n",
       "      <td>cluster_0</td>\n",
       "      <td>MoreThanAvgDonator_Dec_Jan_Feb_quarter</td>\n",
       "      <td>True</td>\n",
       "      <td>0.567338</td>\n",
       "      <td>0.000000</td>\n",
       "      <td>0.495447</td>\n",
       "      <td>0.000000</td>\n",
       "      <td>NaN</td>\n",
       "      <td>NaN</td>\n",
       "      <td>-408.463826</td>\n",
       "    </tr>\n",
       "    <tr>\n",
       "      <th>1</th>\n",
       "      <td>cluster_0</td>\n",
       "      <td>MoreThanAvgDonator_Set_Oct_Nov_quarter</td>\n",
       "      <td>True</td>\n",
       "      <td>0.455029</td>\n",
       "      <td>0.000000</td>\n",
       "      <td>0.497975</td>\n",
       "      <td>0.000000</td>\n",
       "      <td>NaN</td>\n",
       "      <td>NaN</td>\n",
       "      <td>-325.941523</td>\n",
       "    </tr>\n",
       "    <tr>\n",
       "      <th>2</th>\n",
       "      <td>cluster_0</td>\n",
       "      <td>MoreThanAvgDonator_Jun_Jul_Aug_quarter</td>\n",
       "      <td>True</td>\n",
       "      <td>0.437754</td>\n",
       "      <td>0.000000</td>\n",
       "      <td>0.496112</td>\n",
       "      <td>0.000000</td>\n",
       "      <td>NaN</td>\n",
       "      <td>NaN</td>\n",
       "      <td>-314.745099</td>\n",
       "    </tr>\n",
       "    <tr>\n",
       "      <th>3</th>\n",
       "      <td>cluster_0</td>\n",
       "      <td>christmas</td>\n",
       "      <td>True</td>\n",
       "      <td>0.169478</td>\n",
       "      <td>0.000000</td>\n",
       "      <td>0.375175</td>\n",
       "      <td>0.000000</td>\n",
       "      <td>NaN</td>\n",
       "      <td>NaN</td>\n",
       "      <td>-161.134041</td>\n",
       "    </tr>\n",
       "    <tr>\n",
       "      <th>4</th>\n",
       "      <td>cluster_0</td>\n",
       "      <td>emergency_prop</td>\n",
       "      <td>True</td>\n",
       "      <td>0.067397</td>\n",
       "      <td>0.001725</td>\n",
       "      <td>0.146621</td>\n",
       "      <td>0.017571</td>\n",
       "      <td>NaN</td>\n",
       "      <td>NaN</td>\n",
       "      <td>-150.859862</td>\n",
       "    </tr>\n",
       "    <tr>\n",
       "      <th>5</th>\n",
       "      <td>cluster_0</td>\n",
       "      <td>canal_fav=Mailing</td>\n",
       "      <td>False</td>\n",
       "      <td>NaN</td>\n",
       "      <td>NaN</td>\n",
       "      <td>NaN</td>\n",
       "      <td>NaN</td>\n",
       "      <td>0.012111</td>\n",
       "      <td>0.164573</td>\n",
       "      <td>-111.293094</td>\n",
       "    </tr>\n",
       "    <tr>\n",
       "      <th>6</th>\n",
       "      <td>cluster_0</td>\n",
       "      <td>oport_amount_count</td>\n",
       "      <td>True</td>\n",
       "      <td>5.085407</td>\n",
       "      <td>2.843226</td>\n",
       "      <td>7.978487</td>\n",
       "      <td>1.636548</td>\n",
       "      <td>NaN</td>\n",
       "      <td>NaN</td>\n",
       "      <td>-86.077900</td>\n",
       "    </tr>\n",
       "    <tr>\n",
       "      <th>7</th>\n",
       "      <td>cluster_0</td>\n",
       "      <td>canal_fav=TLMK</td>\n",
       "      <td>False</td>\n",
       "      <td>NaN</td>\n",
       "      <td>NaN</td>\n",
       "      <td>NaN</td>\n",
       "      <td>NaN</td>\n",
       "      <td>0.030410</td>\n",
       "      <td>0.152557</td>\n",
       "      <td>-70.780425</td>\n",
       "    </tr>\n",
       "    <tr>\n",
       "      <th>8</th>\n",
       "      <td>cluster_0</td>\n",
       "      <td>canal_fav=Captacion_offline</td>\n",
       "      <td>False</td>\n",
       "      <td>NaN</td>\n",
       "      <td>NaN</td>\n",
       "      <td>NaN</td>\n",
       "      <td>NaN</td>\n",
       "      <td>0.373636</td>\n",
       "      <td>0.120648</td>\n",
       "      <td>62.457827</td>\n",
       "    </tr>\n",
       "    <tr>\n",
       "      <th>9</th>\n",
       "      <td>cluster_0</td>\n",
       "      <td>canal_fav=Officers</td>\n",
       "      <td>False</td>\n",
       "      <td>NaN</td>\n",
       "      <td>NaN</td>\n",
       "      <td>NaN</td>\n",
       "      <td>NaN</td>\n",
       "      <td>0.000133</td>\n",
       "      <td>0.019845</td>\n",
       "      <td>-49.015563</td>\n",
       "    </tr>\n",
       "    <tr>\n",
       "      <th>10</th>\n",
       "      <td>cluster_0</td>\n",
       "      <td>MoreThanAvgDonator_Mar_Apr_May_quarter</td>\n",
       "      <td>True</td>\n",
       "      <td>0.467628</td>\n",
       "      <td>0.310154</td>\n",
       "      <td>0.498953</td>\n",
       "      <td>0.462572</td>\n",
       "      <td>NaN</td>\n",
       "      <td>NaN</td>\n",
       "      <td>-39.130718</td>\n",
       "    </tr>\n",
       "    <tr>\n",
       "      <th>11</th>\n",
       "      <td>cluster_0</td>\n",
       "      <td>canal_fav=Emailings</td>\n",
       "      <td>False</td>\n",
       "      <td>NaN</td>\n",
       "      <td>NaN</td>\n",
       "      <td>NaN</td>\n",
       "      <td>NaN</td>\n",
       "      <td>0.032872</td>\n",
       "      <td>0.070262</td>\n",
       "      <td>-23.060571</td>\n",
       "    </tr>\n",
       "    <tr>\n",
       "      <th>12</th>\n",
       "      <td>cluster_0</td>\n",
       "      <td>canal_fav=Desconocido</td>\n",
       "      <td>False</td>\n",
       "      <td>NaN</td>\n",
       "      <td>NaN</td>\n",
       "      <td>NaN</td>\n",
       "      <td>NaN</td>\n",
       "      <td>0.442308</td>\n",
       "      <td>0.356505</td>\n",
       "      <td>20.102974</td>\n",
       "    </tr>\n",
       "    <tr>\n",
       "      <th>13</th>\n",
       "      <td>cluster_0</td>\n",
       "      <td>canal_fav=Otros</td>\n",
       "      <td>False</td>\n",
       "      <td>NaN</td>\n",
       "      <td>NaN</td>\n",
       "      <td>NaN</td>\n",
       "      <td>NaN</td>\n",
       "      <td>0.005590</td>\n",
       "      <td>0.007081</td>\n",
       "      <td>-2.287756</td>\n",
       "    </tr>\n",
       "    <tr>\n",
       "      <th>14</th>\n",
       "      <td>cluster_0</td>\n",
       "      <td>canal_fav=Captacion_digital</td>\n",
       "      <td>False</td>\n",
       "      <td>NaN</td>\n",
       "      <td>NaN</td>\n",
       "      <td>NaN</td>\n",
       "      <td>NaN</td>\n",
       "      <td>0.102941</td>\n",
       "      <td>0.108529</td>\n",
       "      <td>-2.126408</td>\n",
       "    </tr>\n",
       "  </tbody>\n",
       "</table>\n",
       "</div>"
      ],
      "text/plain": [
       "   cluster_label                                 feature  is_numeric_feature  \\\n",
       "0      cluster_0  MoreThanAvgDonator_Dec_Jan_Feb_quarter                True   \n",
       "1      cluster_0  MoreThanAvgDonator_Set_Oct_Nov_quarter                True   \n",
       "2      cluster_0  MoreThanAvgDonator_Jun_Jul_Aug_quarter                True   \n",
       "3      cluster_0                               christmas                True   \n",
       "4      cluster_0                          emergency_prop                True   \n",
       "5      cluster_0                       canal_fav=Mailing               False   \n",
       "6      cluster_0                      oport_amount_count                True   \n",
       "7      cluster_0                          canal_fav=TLMK               False   \n",
       "8      cluster_0             canal_fav=Captacion_offline               False   \n",
       "9      cluster_0                      canal_fav=Officers               False   \n",
       "10     cluster_0  MoreThanAvgDonator_Mar_Apr_May_quarter                True   \n",
       "11     cluster_0                     canal_fav=Emailings               False   \n",
       "12     cluster_0                   canal_fav=Desconocido               False   \n",
       "13     cluster_0                         canal_fav=Otros               False   \n",
       "14     cluster_0             canal_fav=Captacion_digital               False   \n",
       "\n",
       "    global_mean      mean  global_std       std  proportion  \\\n",
       "0      0.567338  0.000000    0.495447  0.000000         NaN   \n",
       "1      0.455029  0.000000    0.497975  0.000000         NaN   \n",
       "2      0.437754  0.000000    0.496112  0.000000         NaN   \n",
       "3      0.169478  0.000000    0.375175  0.000000         NaN   \n",
       "4      0.067397  0.001725    0.146621  0.017571         NaN   \n",
       "5           NaN       NaN         NaN       NaN    0.012111   \n",
       "6      5.085407  2.843226    7.978487  1.636548         NaN   \n",
       "7           NaN       NaN         NaN       NaN    0.030410   \n",
       "8           NaN       NaN         NaN       NaN    0.373636   \n",
       "9           NaN       NaN         NaN       NaN    0.000133   \n",
       "10     0.467628  0.310154    0.498953  0.462572         NaN   \n",
       "11          NaN       NaN         NaN       NaN    0.032872   \n",
       "12          NaN       NaN         NaN       NaN    0.442308   \n",
       "13          NaN       NaN         NaN       NaN    0.005590   \n",
       "14          NaN       NaN         NaN       NaN    0.102941   \n",
       "\n",
       "    global_proportion  relative_importance  \n",
       "0                 NaN          -408.463826  \n",
       "1                 NaN          -325.941523  \n",
       "2                 NaN          -314.745099  \n",
       "3                 NaN          -161.134041  \n",
       "4                 NaN          -150.859862  \n",
       "5            0.164573          -111.293094  \n",
       "6                 NaN           -86.077900  \n",
       "7            0.152557           -70.780425  \n",
       "8            0.120648            62.457827  \n",
       "9            0.019845           -49.015563  \n",
       "10                NaN           -39.130718  \n",
       "11           0.070262           -23.060571  \n",
       "12           0.356505            20.102974  \n",
       "13           0.007081            -2.287756  \n",
       "14           0.108529            -2.126408  "
      ]
     },
     "execution_count": 5,
     "metadata": {},
     "output_type": "execute_result"
    }
   ],
   "source": [
    "heatm.loc[heatm[\"cluster_label\"] == \"cluster_0\"]"
   ]
  },
  {
   "cell_type": "code",
   "execution_count": 17,
   "metadata": {},
   "outputs": [],
   "source": [
    "# Create the paswords:\n",
    "import pickle\n",
    "from pathlib import Path\n",
    "import os\n",
    "names = [\"MSF_name\", \"MSF1_name\"]\n",
    "usernames = [\"MSF\", \"MSF1\"]\n",
    "\n",
    "passwords = [\"abc123\", \"def456\"]\n",
    "hashed_passwords = stauth.Hasher(passwords).generate()"
   ]
  },
  {
   "cell_type": "code",
   "execution_count": 22,
   "metadata": {},
   "outputs": [],
   "source": [
    "file_path = Path(os.path.join(os.getcwd(), \"hashed_pw.pk1\"))"
   ]
  },
  {
   "cell_type": "code",
   "execution_count": 25,
   "metadata": {},
   "outputs": [],
   "source": [
    "hashed_passwords = stauth.Hasher(['MSF1_pasword', 'MSF2_pasword']).generate()"
   ]
  },
  {
   "cell_type": "code",
   "execution_count": 26,
   "metadata": {},
   "outputs": [
    {
     "data": {
      "text/plain": [
       "['$2b$12$7o0WnUR4oG0834gax9Q9ZeuA9X52pn/rz82QtnoQfYpZevxmuYjfm',\n",
       " '$2b$12$vMEC9pEVkYzisp8Eg4C35uiFuDgnvc./IYr4okKWHiqIWlER1Olju']"
      ]
     },
     "execution_count": 26,
     "metadata": {},
     "output_type": "execute_result"
    }
   ],
   "source": [
    "hashed_passwords"
   ]
  },
  {
   "cell_type": "code",
   "execution_count": 4,
   "metadata": {},
   "outputs": [
    {
     "data": {
      "text/plain": [
       "[1, 2, 3, 4, 5, 6, 7, 8, 9, 10]"
      ]
     },
     "execution_count": 4,
     "metadata": {},
     "output_type": "execute_result"
    }
   ],
   "source": [
    "i = 10\n",
    "list(range(1, i+1))"
   ]
  },
  {
   "cell_type": "code",
   "execution_count": 16,
   "metadata": {},
   "outputs": [
    {
     "data": {
      "application/vnd.plotly.v1+json": {
       "config": {
        "plotlyServerURL": "https://plot.ly"
       },
       "data": [
        {
         "marker": {
          "color": "rgb(141,211,199)"
         },
         "name": "Emailings",
         "text": [
          637,
          503,
          271,
          555,
          1638,
          607,
          162,
          267,
          279,
          182,
          634,
          57
         ],
         "textposition": "auto",
         "type": "bar",
         "x": [
          "cluster_0",
          "cluster_1",
          "cluster_2",
          "cluster_3",
          "cluster_4",
          "cluster_5",
          "cluster_6",
          "cluster_7",
          "cluster_8",
          "cluster_9",
          "cluster_10",
          "cluster_outliers"
         ],
         "y": [
          637,
          503,
          271,
          555,
          1638,
          607,
          162,
          267,
          279,
          182,
          634,
          57
         ]
        }
       ],
       "layout": {
        "barmode": "stack",
        "height": 550,
        "template": {
         "data": {
          "candlestick": [
           {
            "decreasing": {
             "line": {
              "color": "#000033"
             }
            },
            "increasing": {
             "line": {
              "color": "#000032"
             }
            },
            "type": "candlestick"
           }
          ],
          "contour": [
           {
            "colorscale": [
             [
              0,
              "#000011"
             ],
             [
              0.1111111111111111,
              "#000012"
             ],
             [
              0.2222222222222222,
              "#000013"
             ],
             [
              0.3333333333333333,
              "#000014"
             ],
             [
              0.4444444444444444,
              "#000015"
             ],
             [
              0.5555555555555556,
              "#000016"
             ],
             [
              0.6666666666666666,
              "#000017"
             ],
             [
              0.7777777777777778,
              "#000018"
             ],
             [
              0.8888888888888888,
              "#000019"
             ],
             [
              1,
              "#000020"
             ]
            ],
            "type": "contour"
           }
          ],
          "contourcarpet": [
           {
            "colorscale": [
             [
              0,
              "#000011"
             ],
             [
              0.1111111111111111,
              "#000012"
             ],
             [
              0.2222222222222222,
              "#000013"
             ],
             [
              0.3333333333333333,
              "#000014"
             ],
             [
              0.4444444444444444,
              "#000015"
             ],
             [
              0.5555555555555556,
              "#000016"
             ],
             [
              0.6666666666666666,
              "#000017"
             ],
             [
              0.7777777777777778,
              "#000018"
             ],
             [
              0.8888888888888888,
              "#000019"
             ],
             [
              1,
              "#000020"
             ]
            ],
            "type": "contourcarpet"
           }
          ],
          "heatmap": [
           {
            "colorscale": [
             [
              0,
              "#000011"
             ],
             [
              0.1111111111111111,
              "#000012"
             ],
             [
              0.2222222222222222,
              "#000013"
             ],
             [
              0.3333333333333333,
              "#000014"
             ],
             [
              0.4444444444444444,
              "#000015"
             ],
             [
              0.5555555555555556,
              "#000016"
             ],
             [
              0.6666666666666666,
              "#000017"
             ],
             [
              0.7777777777777778,
              "#000018"
             ],
             [
              0.8888888888888888,
              "#000019"
             ],
             [
              1,
              "#000020"
             ]
            ],
            "type": "heatmap"
           }
          ],
          "histogram2d": [
           {
            "colorscale": [
             [
              0,
              "#000011"
             ],
             [
              0.1111111111111111,
              "#000012"
             ],
             [
              0.2222222222222222,
              "#000013"
             ],
             [
              0.3333333333333333,
              "#000014"
             ],
             [
              0.4444444444444444,
              "#000015"
             ],
             [
              0.5555555555555556,
              "#000016"
             ],
             [
              0.6666666666666666,
              "#000017"
             ],
             [
              0.7777777777777778,
              "#000018"
             ],
             [
              0.8888888888888888,
              "#000019"
             ],
             [
              1,
              "#000020"
             ]
            ],
            "type": "histogram2d"
           }
          ],
          "icicle": [
           {
            "textfont": {
             "color": "white"
            },
            "type": "icicle"
           }
          ],
          "sankey": [
           {
            "textfont": {
             "color": "#000036"
            },
            "type": "sankey"
           }
          ],
          "scatter": [
           {
            "marker": {
             "line": {
              "width": 0
             }
            },
            "type": "scatter"
           }
          ],
          "table": [
           {
            "cells": {
             "fill": {
              "color": "#000038"
             },
             "font": {
              "color": "#000037"
             },
             "line": {
              "color": "#000039"
             }
            },
            "header": {
             "fill": {
              "color": "#000040"
             },
             "font": {
              "color": "#000036"
             },
             "line": {
              "color": "#000039"
             }
            },
            "type": "table"
           }
          ],
          "waterfall": [
           {
            "connector": {
             "line": {
              "color": "#000036",
              "width": 2
             }
            },
            "decreasing": {
             "marker": {
              "color": "#000033"
             }
            },
            "increasing": {
             "marker": {
              "color": "#000032"
             }
            },
            "totals": {
             "marker": {
              "color": "#000034"
             }
            },
            "type": "waterfall"
           }
          ]
         },
         "layout": {
          "coloraxis": {
           "colorscale": [
            [
             0,
             "#000011"
            ],
            [
             0.1111111111111111,
             "#000012"
            ],
            [
             0.2222222222222222,
             "#000013"
            ],
            [
             0.3333333333333333,
             "#000014"
            ],
            [
             0.4444444444444444,
             "#000015"
            ],
            [
             0.5555555555555556,
             "#000016"
            ],
            [
             0.6666666666666666,
             "#000017"
            ],
            [
             0.7777777777777778,
             "#000018"
            ],
            [
             0.8888888888888888,
             "#000019"
            ],
            [
             1,
             "#000020"
            ]
           ]
          },
          "colorscale": {
           "diverging": [
            [
             0,
             "#000021"
            ],
            [
             0.1,
             "#000022"
            ],
            [
             0.2,
             "#000023"
            ],
            [
             0.3,
             "#000024"
            ],
            [
             0.4,
             "#000025"
            ],
            [
             0.5,
             "#000026"
            ],
            [
             0.6,
             "#000027"
            ],
            [
             0.7,
             "#000028"
            ],
            [
             0.8,
             "#000029"
            ],
            [
             0.9,
             "#000030"
            ],
            [
             1,
             "#000031"
            ]
           ],
           "sequential": [
            [
             0,
             "#000011"
            ],
            [
             0.1111111111111111,
             "#000012"
            ],
            [
             0.2222222222222222,
             "#000013"
            ],
            [
             0.3333333333333333,
             "#000014"
            ],
            [
             0.4444444444444444,
             "#000015"
            ],
            [
             0.5555555555555556,
             "#000016"
            ],
            [
             0.6666666666666666,
             "#000017"
            ],
            [
             0.7777777777777778,
             "#000018"
            ],
            [
             0.8888888888888888,
             "#000019"
            ],
            [
             1,
             "#000020"
            ]
           ],
           "sequentialminus": [
            [
             0,
             "#000011"
            ],
            [
             0.1111111111111111,
             "#000012"
            ],
            [
             0.2222222222222222,
             "#000013"
            ],
            [
             0.3333333333333333,
             "#000014"
            ],
            [
             0.4444444444444444,
             "#000015"
            ],
            [
             0.5555555555555556,
             "#000016"
            ],
            [
             0.6666666666666666,
             "#000017"
            ],
            [
             0.7777777777777778,
             "#000018"
            ],
            [
             0.8888888888888888,
             "#000019"
            ],
            [
             1,
             "#000020"
            ]
           ]
          },
          "colorway": [
           "#000001",
           "#000002",
           "#000003",
           "#000004",
           "#000005",
           "#000006",
           "#000007",
           "#000008",
           "#000009",
           "#000010"
          ]
         }
        },
        "width": 825,
        "xaxis": {
         "title": {
          "text": "Cluster"
         }
        },
        "yaxis": {
         "title": {
          "text": "Contacts"
         }
        }
       }
      }
     },
     "metadata": {},
     "output_type": "display_data"
    }
   ],
   "source": [
    "import plotly.express as px\n",
    "\n",
    "cluster_labels = sorted(df[\"cluster_labels\"].unique())\n",
    "cluster_labels.pop(2)\n",
    "cluster_labels.pop(len(cluster_labels)-1)\n",
    "cluster_labels = cluster_labels + [\"cluster_10\", \"cluster_outliers\"]\n",
    "\n",
    "chanels = [\"Emailings\", \"Mailing\", \"Officers\"]\n",
    "\n",
    "comp = df.loc[df[\"canal_fav\"].isin(chanels)]\n",
    "comp = comp.groupby(by=[\"cluster_labels\", \"canal_fav\"]).count()[[\"id\", \"emergency_prop\"]].drop(\"emergency_prop\", axis=1)\n",
    "\n",
    "comp = comp.reindex(cluster_labels, level=0)\n",
    "comp.reset_index(inplace=True)\n",
    "\n",
    "chanel_datasets = []\n",
    "for chanel in chanels:\n",
    "    chanel_datasets.append(comp.loc[comp[\"canal_fav\"] == chanel])\n",
    "\n",
    "colors = px.colors.qualitative.Set3\n",
    "\n",
    "fig_chanels = go.Figure()\n",
    "# for i, chanel_dataset in enumerate(chanel_datasets):\n",
    "    # We take the id as the y axis because after doing the groupby the column id represents the count\n",
    "fig_chanels.add_trace(go.Bar(x=chanel_datasets[0][\"cluster_labels\"], y=chanel_datasets[0][\"id\"], text=chanel_datasets[0][\"id\"], name=chanel_datasets[0][\"canal_fav\"].unique()[0], textposition='auto', marker_color=colors[0]))\n",
    "\n",
    "# update the layout of the plot\n",
    "fig_chanels.update_layout(\n",
    "    xaxis_title='Cluster',\n",
    "    yaxis_title='Contacts',\n",
    "    height=550,\n",
    "    width=825,\n",
    "    barmode=\"stack\"\n",
    ")\n",
    "\n",
    "fig_chanels.show()"
   ]
  },
  {
   "cell_type": "code",
   "execution_count": 15,
   "metadata": {},
   "outputs": [
    {
     "data": {
      "text/html": [
       "<div>\n",
       "<style scoped>\n",
       "    .dataframe tbody tr th:only-of-type {\n",
       "        vertical-align: middle;\n",
       "    }\n",
       "\n",
       "    .dataframe tbody tr th {\n",
       "        vertical-align: top;\n",
       "    }\n",
       "\n",
       "    .dataframe thead th {\n",
       "        text-align: right;\n",
       "    }\n",
       "</style>\n",
       "<table border=\"1\" class=\"dataframe\">\n",
       "  <thead>\n",
       "    <tr style=\"text-align: right;\">\n",
       "      <th></th>\n",
       "      <th>id</th>\n",
       "      <th>gender__c</th>\n",
       "      <th>emergency_prop</th>\n",
       "      <th>canal_fav</th>\n",
       "      <th>oport_amount_count</th>\n",
       "      <th>oport_amount_avg</th>\n",
       "      <th>oport_amount_stddev</th>\n",
       "      <th>age_at_donation_avg</th>\n",
       "      <th>month_July</th>\n",
       "      <th>month_June</th>\n",
       "      <th>MoreThanAvgDonator_Dec_Jan_Feb_quarter</th>\n",
       "      <th>MoreThanAvgDonator_Mar_Apr_May_quarter</th>\n",
       "      <th>MoreThanAvgDonator_Jun_Jul_Aug_quarter</th>\n",
       "      <th>MoreThanAvgDonator_Set_Oct_Nov_quarter</th>\n",
       "      <th>christmas</th>\n",
       "      <th>date_diff_int_avg</th>\n",
       "      <th>date_diff_int_stddev</th>\n",
       "      <th>cluster_labels</th>\n",
       "    </tr>\n",
       "  </thead>\n",
       "  <tbody>\n",
       "    <tr>\n",
       "      <th>3</th>\n",
       "      <td>0033Y00002uNQ55QAG</td>\n",
       "      <td>Male</td>\n",
       "      <td>0.000000</td>\n",
       "      <td>Emailings</td>\n",
       "      <td>3</td>\n",
       "      <td>41.666667</td>\n",
       "      <td>31.754265</td>\n",
       "      <td>72.666667</td>\n",
       "      <td>0.0</td>\n",
       "      <td>0.0</td>\n",
       "      <td>0</td>\n",
       "      <td>1</td>\n",
       "      <td>0</td>\n",
       "      <td>0</td>\n",
       "      <td>0</td>\n",
       "      <td>720.000000</td>\n",
       "      <td>1016.819551</td>\n",
       "      <td>cluster_6</td>\n",
       "    </tr>\n",
       "    <tr>\n",
       "      <th>15</th>\n",
       "      <td>0033Y00002uNQ7OQAW</td>\n",
       "      <td>Female</td>\n",
       "      <td>0.250000</td>\n",
       "      <td>Emailings</td>\n",
       "      <td>4</td>\n",
       "      <td>80.000000</td>\n",
       "      <td>23.094011</td>\n",
       "      <td>45.250000</td>\n",
       "      <td>0.0</td>\n",
       "      <td>0.0</td>\n",
       "      <td>0</td>\n",
       "      <td>1</td>\n",
       "      <td>1</td>\n",
       "      <td>0</td>\n",
       "      <td>0</td>\n",
       "      <td>238.000000</td>\n",
       "      <td>254.330494</td>\n",
       "      <td>cluster_0</td>\n",
       "    </tr>\n",
       "    <tr>\n",
       "      <th>18</th>\n",
       "      <td>0033Y00002uNQ7zQAG</td>\n",
       "      <td>Female</td>\n",
       "      <td>0.142857</td>\n",
       "      <td>Emailings</td>\n",
       "      <td>7</td>\n",
       "      <td>127.142857</td>\n",
       "      <td>40.708020</td>\n",
       "      <td>NaN</td>\n",
       "      <td>0.0</td>\n",
       "      <td>0.0</td>\n",
       "      <td>0</td>\n",
       "      <td>1</td>\n",
       "      <td>0</td>\n",
       "      <td>1</td>\n",
       "      <td>0</td>\n",
       "      <td>208.666667</td>\n",
       "      <td>155.346924</td>\n",
       "      <td>cluster_0</td>\n",
       "    </tr>\n",
       "    <tr>\n",
       "      <th>34</th>\n",
       "      <td>0033Y00002uNQC4QAO</td>\n",
       "      <td>Male</td>\n",
       "      <td>0.200000</td>\n",
       "      <td>Emailings</td>\n",
       "      <td>10</td>\n",
       "      <td>25.620000</td>\n",
       "      <td>9.789995</td>\n",
       "      <td>NaN</td>\n",
       "      <td>60.0</td>\n",
       "      <td>0.0</td>\n",
       "      <td>1</td>\n",
       "      <td>1</td>\n",
       "      <td>1</td>\n",
       "      <td>0</td>\n",
       "      <td>0</td>\n",
       "      <td>165.555556</td>\n",
       "      <td>155.419683</td>\n",
       "      <td>cluster_5</td>\n",
       "    </tr>\n",
       "    <tr>\n",
       "      <th>37</th>\n",
       "      <td>0033Y00002uNQCbQAO</td>\n",
       "      <td>Male</td>\n",
       "      <td>0.000000</td>\n",
       "      <td>Emailings</td>\n",
       "      <td>9</td>\n",
       "      <td>22.222222</td>\n",
       "      <td>6.666667</td>\n",
       "      <td>64.000000</td>\n",
       "      <td>20.0</td>\n",
       "      <td>0.0</td>\n",
       "      <td>1</td>\n",
       "      <td>1</td>\n",
       "      <td>1</td>\n",
       "      <td>1</td>\n",
       "      <td>0</td>\n",
       "      <td>198.750000</td>\n",
       "      <td>163.799311</td>\n",
       "      <td>cluster_4</td>\n",
       "    </tr>\n",
       "    <tr>\n",
       "      <th>...</th>\n",
       "      <td>...</td>\n",
       "      <td>...</td>\n",
       "      <td>...</td>\n",
       "      <td>...</td>\n",
       "      <td>...</td>\n",
       "      <td>...</td>\n",
       "      <td>...</td>\n",
       "      <td>...</td>\n",
       "      <td>...</td>\n",
       "      <td>...</td>\n",
       "      <td>...</td>\n",
       "      <td>...</td>\n",
       "      <td>...</td>\n",
       "      <td>...</td>\n",
       "      <td>...</td>\n",
       "      <td>...</td>\n",
       "      <td>...</td>\n",
       "      <td>...</td>\n",
       "    </tr>\n",
       "    <tr>\n",
       "      <th>77157</th>\n",
       "      <td>0033Y00003cJv5TQAS</td>\n",
       "      <td>NaN</td>\n",
       "      <td>0.000000</td>\n",
       "      <td>Emailings</td>\n",
       "      <td>3</td>\n",
       "      <td>30.000000</td>\n",
       "      <td>0.000000</td>\n",
       "      <td>NaN</td>\n",
       "      <td>0.0</td>\n",
       "      <td>0.0</td>\n",
       "      <td>0</td>\n",
       "      <td>0</td>\n",
       "      <td>0</td>\n",
       "      <td>1</td>\n",
       "      <td>0</td>\n",
       "      <td>0.000000</td>\n",
       "      <td>0.000000</td>\n",
       "      <td>cluster_3</td>\n",
       "    </tr>\n",
       "    <tr>\n",
       "      <th>77178</th>\n",
       "      <td>0033Y00003cMuHxQAK</td>\n",
       "      <td>NaN</td>\n",
       "      <td>0.000000</td>\n",
       "      <td>Emailings</td>\n",
       "      <td>4</td>\n",
       "      <td>60.000000</td>\n",
       "      <td>0.000000</td>\n",
       "      <td>NaN</td>\n",
       "      <td>0.0</td>\n",
       "      <td>0.0</td>\n",
       "      <td>0</td>\n",
       "      <td>0</td>\n",
       "      <td>0</td>\n",
       "      <td>1</td>\n",
       "      <td>0</td>\n",
       "      <td>1.333333</td>\n",
       "      <td>2.309401</td>\n",
       "      <td>cluster_3</td>\n",
       "    </tr>\n",
       "    <tr>\n",
       "      <th>77192</th>\n",
       "      <td>0033Y00003e10sxQAA</td>\n",
       "      <td>NaN</td>\n",
       "      <td>0.000000</td>\n",
       "      <td>Emailings</td>\n",
       "      <td>5</td>\n",
       "      <td>47.000000</td>\n",
       "      <td>16.217275</td>\n",
       "      <td>NaN</td>\n",
       "      <td>0.0</td>\n",
       "      <td>0.0</td>\n",
       "      <td>1</td>\n",
       "      <td>0</td>\n",
       "      <td>0</td>\n",
       "      <td>1</td>\n",
       "      <td>0</td>\n",
       "      <td>3.500000</td>\n",
       "      <td>6.350853</td>\n",
       "      <td>cluster_9</td>\n",
       "    </tr>\n",
       "    <tr>\n",
       "      <th>77408</th>\n",
       "      <td>0033Y00003e2mPjQAI</td>\n",
       "      <td>NaN</td>\n",
       "      <td>0.000000</td>\n",
       "      <td>Emailings</td>\n",
       "      <td>6</td>\n",
       "      <td>30.000000</td>\n",
       "      <td>0.000000</td>\n",
       "      <td>NaN</td>\n",
       "      <td>0.0</td>\n",
       "      <td>0.0</td>\n",
       "      <td>1</td>\n",
       "      <td>0</td>\n",
       "      <td>0</td>\n",
       "      <td>0</td>\n",
       "      <td>1</td>\n",
       "      <td>0.000000</td>\n",
       "      <td>0.000000</td>\n",
       "      <td>cluster_2</td>\n",
       "    </tr>\n",
       "    <tr>\n",
       "      <th>77478</th>\n",
       "      <td>0033Y00003e3Ry6QAE</td>\n",
       "      <td>NaN</td>\n",
       "      <td>0.000000</td>\n",
       "      <td>Emailings</td>\n",
       "      <td>3</td>\n",
       "      <td>55.333333</td>\n",
       "      <td>39.259818</td>\n",
       "      <td>NaN</td>\n",
       "      <td>0.0</td>\n",
       "      <td>0.0</td>\n",
       "      <td>1</td>\n",
       "      <td>0</td>\n",
       "      <td>0</td>\n",
       "      <td>0</td>\n",
       "      <td>1</td>\n",
       "      <td>0.000000</td>\n",
       "      <td>0.000000</td>\n",
       "      <td>cluster_2</td>\n",
       "    </tr>\n",
       "  </tbody>\n",
       "</table>\n",
       "<p>5792 rows × 18 columns</p>\n",
       "</div>"
      ],
      "text/plain": [
       "                       id gender__c  emergency_prop  canal_fav  \\\n",
       "3      0033Y00002uNQ55QAG      Male        0.000000  Emailings   \n",
       "15     0033Y00002uNQ7OQAW    Female        0.250000  Emailings   \n",
       "18     0033Y00002uNQ7zQAG    Female        0.142857  Emailings   \n",
       "34     0033Y00002uNQC4QAO      Male        0.200000  Emailings   \n",
       "37     0033Y00002uNQCbQAO      Male        0.000000  Emailings   \n",
       "...                   ...       ...             ...        ...   \n",
       "77157  0033Y00003cJv5TQAS       NaN        0.000000  Emailings   \n",
       "77178  0033Y00003cMuHxQAK       NaN        0.000000  Emailings   \n",
       "77192  0033Y00003e10sxQAA       NaN        0.000000  Emailings   \n",
       "77408  0033Y00003e2mPjQAI       NaN        0.000000  Emailings   \n",
       "77478  0033Y00003e3Ry6QAE       NaN        0.000000  Emailings   \n",
       "\n",
       "       oport_amount_count  oport_amount_avg  oport_amount_stddev  \\\n",
       "3                       3         41.666667            31.754265   \n",
       "15                      4         80.000000            23.094011   \n",
       "18                      7        127.142857            40.708020   \n",
       "34                     10         25.620000             9.789995   \n",
       "37                      9         22.222222             6.666667   \n",
       "...                   ...               ...                  ...   \n",
       "77157                   3         30.000000             0.000000   \n",
       "77178                   4         60.000000             0.000000   \n",
       "77192                   5         47.000000            16.217275   \n",
       "77408                   6         30.000000             0.000000   \n",
       "77478                   3         55.333333            39.259818   \n",
       "\n",
       "       age_at_donation_avg  month_July  month_June  \\\n",
       "3                72.666667         0.0         0.0   \n",
       "15               45.250000         0.0         0.0   \n",
       "18                     NaN         0.0         0.0   \n",
       "34                     NaN        60.0         0.0   \n",
       "37               64.000000        20.0         0.0   \n",
       "...                    ...         ...         ...   \n",
       "77157                  NaN         0.0         0.0   \n",
       "77178                  NaN         0.0         0.0   \n",
       "77192                  NaN         0.0         0.0   \n",
       "77408                  NaN         0.0         0.0   \n",
       "77478                  NaN         0.0         0.0   \n",
       "\n",
       "       MoreThanAvgDonator_Dec_Jan_Feb_quarter  \\\n",
       "3                                           0   \n",
       "15                                          0   \n",
       "18                                          0   \n",
       "34                                          1   \n",
       "37                                          1   \n",
       "...                                       ...   \n",
       "77157                                       0   \n",
       "77178                                       0   \n",
       "77192                                       1   \n",
       "77408                                       1   \n",
       "77478                                       1   \n",
       "\n",
       "       MoreThanAvgDonator_Mar_Apr_May_quarter  \\\n",
       "3                                           1   \n",
       "15                                          1   \n",
       "18                                          1   \n",
       "34                                          1   \n",
       "37                                          1   \n",
       "...                                       ...   \n",
       "77157                                       0   \n",
       "77178                                       0   \n",
       "77192                                       0   \n",
       "77408                                       0   \n",
       "77478                                       0   \n",
       "\n",
       "       MoreThanAvgDonator_Jun_Jul_Aug_quarter  \\\n",
       "3                                           0   \n",
       "15                                          1   \n",
       "18                                          0   \n",
       "34                                          1   \n",
       "37                                          1   \n",
       "...                                       ...   \n",
       "77157                                       0   \n",
       "77178                                       0   \n",
       "77192                                       0   \n",
       "77408                                       0   \n",
       "77478                                       0   \n",
       "\n",
       "       MoreThanAvgDonator_Set_Oct_Nov_quarter  christmas  date_diff_int_avg  \\\n",
       "3                                           0          0         720.000000   \n",
       "15                                          0          0         238.000000   \n",
       "18                                          1          0         208.666667   \n",
       "34                                          0          0         165.555556   \n",
       "37                                          1          0         198.750000   \n",
       "...                                       ...        ...                ...   \n",
       "77157                                       1          0           0.000000   \n",
       "77178                                       1          0           1.333333   \n",
       "77192                                       1          0           3.500000   \n",
       "77408                                       0          1           0.000000   \n",
       "77478                                       0          1           0.000000   \n",
       "\n",
       "       date_diff_int_stddev cluster_labels  \n",
       "3               1016.819551      cluster_6  \n",
       "15               254.330494      cluster_0  \n",
       "18               155.346924      cluster_0  \n",
       "34               155.419683      cluster_5  \n",
       "37               163.799311      cluster_4  \n",
       "...                     ...            ...  \n",
       "77157              0.000000      cluster_3  \n",
       "77178              2.309401      cluster_3  \n",
       "77192              6.350853      cluster_9  \n",
       "77408              0.000000      cluster_2  \n",
       "77478              0.000000      cluster_2  \n",
       "\n",
       "[5792 rows x 18 columns]"
      ]
     },
     "execution_count": 15,
     "metadata": {},
     "output_type": "execute_result"
    }
   ],
   "source": [
    "chanel_datasets[0]"
   ]
  },
  {
   "cell_type": "code",
   "execution_count": 17,
   "metadata": {},
   "outputs": [
    {
     "data": {
      "text/html": [
       "<div>\n",
       "<style scoped>\n",
       "    .dataframe tbody tr th:only-of-type {\n",
       "        vertical-align: middle;\n",
       "    }\n",
       "\n",
       "    .dataframe tbody tr th {\n",
       "        vertical-align: top;\n",
       "    }\n",
       "\n",
       "    .dataframe thead th {\n",
       "        text-align: right;\n",
       "    }\n",
       "</style>\n",
       "<table border=\"1\" class=\"dataframe\">\n",
       "  <thead>\n",
       "    <tr style=\"text-align: right;\">\n",
       "      <th></th>\n",
       "      <th>id</th>\n",
       "      <th>gender__c</th>\n",
       "      <th>emergency_prop</th>\n",
       "      <th>canal_fav</th>\n",
       "      <th>oport_amount_count</th>\n",
       "      <th>oport_amount_avg</th>\n",
       "      <th>oport_amount_stddev</th>\n",
       "      <th>age_at_donation_avg</th>\n",
       "      <th>month_July</th>\n",
       "      <th>month_June</th>\n",
       "      <th>MoreThanAvgDonator_Dec_Jan_Feb_quarter</th>\n",
       "      <th>MoreThanAvgDonator_Mar_Apr_May_quarter</th>\n",
       "      <th>MoreThanAvgDonator_Jun_Jul_Aug_quarter</th>\n",
       "      <th>MoreThanAvgDonator_Set_Oct_Nov_quarter</th>\n",
       "      <th>christmas</th>\n",
       "      <th>date_diff_int_avg</th>\n",
       "      <th>date_diff_int_stddev</th>\n",
       "      <th>cluster_labels</th>\n",
       "    </tr>\n",
       "  </thead>\n",
       "  <tbody>\n",
       "    <tr>\n",
       "      <th>0</th>\n",
       "      <td>0033Y00002uNQ4QQAW</td>\n",
       "      <td>Male</td>\n",
       "      <td>0.0</td>\n",
       "      <td>Captacion_digital</td>\n",
       "      <td>4</td>\n",
       "      <td>57.500000</td>\n",
       "      <td>30.686588</td>\n",
       "      <td>64.500000</td>\n",
       "      <td>0.0</td>\n",
       "      <td>0.0</td>\n",
       "      <td>1</td>\n",
       "      <td>1</td>\n",
       "      <td>0</td>\n",
       "      <td>0</td>\n",
       "      <td>0</td>\n",
       "      <td>151.666667</td>\n",
       "      <td>262.694372</td>\n",
       "      <td>cluster_8</td>\n",
       "    </tr>\n",
       "    <tr>\n",
       "      <th>1</th>\n",
       "      <td>0033Y00002uNQ4tQAG</td>\n",
       "      <td>Female</td>\n",
       "      <td>0.0</td>\n",
       "      <td>Desconocido</td>\n",
       "      <td>4</td>\n",
       "      <td>137.500000</td>\n",
       "      <td>47.871355</td>\n",
       "      <td>64.250000</td>\n",
       "      <td>0.0</td>\n",
       "      <td>0.0</td>\n",
       "      <td>1</td>\n",
       "      <td>1</td>\n",
       "      <td>0</td>\n",
       "      <td>1</td>\n",
       "      <td>0</td>\n",
       "      <td>150.333333</td>\n",
       "      <td>112.500370</td>\n",
       "      <td>cluster_10</td>\n",
       "    </tr>\n",
       "    <tr>\n",
       "      <th>2</th>\n",
       "      <td>0033Y00002uNQ50QAG</td>\n",
       "      <td>Female</td>\n",
       "      <td>0.2</td>\n",
       "      <td>TLMK</td>\n",
       "      <td>5</td>\n",
       "      <td>20.000000</td>\n",
       "      <td>0.000000</td>\n",
       "      <td>NaN</td>\n",
       "      <td>0.0</td>\n",
       "      <td>0.0</td>\n",
       "      <td>0</td>\n",
       "      <td>1</td>\n",
       "      <td>1</td>\n",
       "      <td>1</td>\n",
       "      <td>0</td>\n",
       "      <td>374.500000</td>\n",
       "      <td>279.987500</td>\n",
       "      <td>cluster_0</td>\n",
       "    </tr>\n",
       "    <tr>\n",
       "      <th>3</th>\n",
       "      <td>0033Y00002uNQ55QAG</td>\n",
       "      <td>Male</td>\n",
       "      <td>0.0</td>\n",
       "      <td>Emailings</td>\n",
       "      <td>3</td>\n",
       "      <td>41.666667</td>\n",
       "      <td>31.754265</td>\n",
       "      <td>72.666667</td>\n",
       "      <td>0.0</td>\n",
       "      <td>0.0</td>\n",
       "      <td>0</td>\n",
       "      <td>1</td>\n",
       "      <td>0</td>\n",
       "      <td>0</td>\n",
       "      <td>0</td>\n",
       "      <td>720.000000</td>\n",
       "      <td>1016.819551</td>\n",
       "      <td>cluster_6</td>\n",
       "    </tr>\n",
       "    <tr>\n",
       "      <th>4</th>\n",
       "      <td>0033Y00002uNQ5JQAW</td>\n",
       "      <td>Male</td>\n",
       "      <td>0.0</td>\n",
       "      <td>Desconocido</td>\n",
       "      <td>4</td>\n",
       "      <td>47.500000</td>\n",
       "      <td>34.034296</td>\n",
       "      <td>74.500000</td>\n",
       "      <td>0.0</td>\n",
       "      <td>0.0</td>\n",
       "      <td>1</td>\n",
       "      <td>0</td>\n",
       "      <td>0</td>\n",
       "      <td>1</td>\n",
       "      <td>0</td>\n",
       "      <td>149.666667</td>\n",
       "      <td>259.230271</td>\n",
       "      <td>cluster_9</td>\n",
       "    </tr>\n",
       "    <tr>\n",
       "      <th>...</th>\n",
       "      <td>...</td>\n",
       "      <td>...</td>\n",
       "      <td>...</td>\n",
       "      <td>...</td>\n",
       "      <td>...</td>\n",
       "      <td>...</td>\n",
       "      <td>...</td>\n",
       "      <td>...</td>\n",
       "      <td>...</td>\n",
       "      <td>...</td>\n",
       "      <td>...</td>\n",
       "      <td>...</td>\n",
       "      <td>...</td>\n",
       "      <td>...</td>\n",
       "      <td>...</td>\n",
       "      <td>...</td>\n",
       "      <td>...</td>\n",
       "      <td>...</td>\n",
       "    </tr>\n",
       "    <tr>\n",
       "      <th>77551</th>\n",
       "      <td>0033Y00003fpz3hQAA</td>\n",
       "      <td>NaN</td>\n",
       "      <td>0.0</td>\n",
       "      <td>Desconocido</td>\n",
       "      <td>3</td>\n",
       "      <td>22.000000</td>\n",
       "      <td>3.464102</td>\n",
       "      <td>NaN</td>\n",
       "      <td>0.0</td>\n",
       "      <td>0.0</td>\n",
       "      <td>1</td>\n",
       "      <td>0</td>\n",
       "      <td>0</td>\n",
       "      <td>0</td>\n",
       "      <td>1</td>\n",
       "      <td>18.500000</td>\n",
       "      <td>26.162951</td>\n",
       "      <td>cluster_2</td>\n",
       "    </tr>\n",
       "    <tr>\n",
       "      <th>77552</th>\n",
       "      <td>0033Y00003fqOGEQA2</td>\n",
       "      <td>NaN</td>\n",
       "      <td>0.0</td>\n",
       "      <td>Desconocido</td>\n",
       "      <td>6</td>\n",
       "      <td>10.000000</td>\n",
       "      <td>0.000000</td>\n",
       "      <td>NaN</td>\n",
       "      <td>0.0</td>\n",
       "      <td>0.0</td>\n",
       "      <td>1</td>\n",
       "      <td>0</td>\n",
       "      <td>0</td>\n",
       "      <td>1</td>\n",
       "      <td>0</td>\n",
       "      <td>31.600000</td>\n",
       "      <td>5.770615</td>\n",
       "      <td>cluster_9</td>\n",
       "    </tr>\n",
       "    <tr>\n",
       "      <th>77553</th>\n",
       "      <td>0033Y00003fqPJgQAM</td>\n",
       "      <td>NaN</td>\n",
       "      <td>0.0</td>\n",
       "      <td>TLMK</td>\n",
       "      <td>3</td>\n",
       "      <td>43.333333</td>\n",
       "      <td>11.547005</td>\n",
       "      <td>NaN</td>\n",
       "      <td>0.0</td>\n",
       "      <td>0.0</td>\n",
       "      <td>1</td>\n",
       "      <td>0</td>\n",
       "      <td>0</td>\n",
       "      <td>0</td>\n",
       "      <td>1</td>\n",
       "      <td>0.000000</td>\n",
       "      <td>0.000000</td>\n",
       "      <td>cluster_2</td>\n",
       "    </tr>\n",
       "    <tr>\n",
       "      <th>77554</th>\n",
       "      <td>0033Y00003fqPKoQAM</td>\n",
       "      <td>Male</td>\n",
       "      <td>0.0</td>\n",
       "      <td>Captacion_offline</td>\n",
       "      <td>8</td>\n",
       "      <td>1.150000</td>\n",
       "      <td>0.092582</td>\n",
       "      <td>79.125000</td>\n",
       "      <td>1.2</td>\n",
       "      <td>0.0</td>\n",
       "      <td>0</td>\n",
       "      <td>0</td>\n",
       "      <td>0</td>\n",
       "      <td>0</td>\n",
       "      <td>0</td>\n",
       "      <td>200.285714</td>\n",
       "      <td>146.024786</td>\n",
       "      <td>cluster_6</td>\n",
       "    </tr>\n",
       "    <tr>\n",
       "      <th>77555</th>\n",
       "      <td>0033Y00003fqVVlQAM</td>\n",
       "      <td>NaN</td>\n",
       "      <td>0.0</td>\n",
       "      <td>Captacion_digital</td>\n",
       "      <td>3</td>\n",
       "      <td>166.666667</td>\n",
       "      <td>57.735027</td>\n",
       "      <td>NaN</td>\n",
       "      <td>0.0</td>\n",
       "      <td>0.0</td>\n",
       "      <td>1</td>\n",
       "      <td>0</td>\n",
       "      <td>0</td>\n",
       "      <td>0</td>\n",
       "      <td>1</td>\n",
       "      <td>14.000000</td>\n",
       "      <td>19.798990</td>\n",
       "      <td>cluster_2</td>\n",
       "    </tr>\n",
       "  </tbody>\n",
       "</table>\n",
       "<p>77556 rows × 18 columns</p>\n",
       "</div>"
      ],
      "text/plain": [
       "                       id gender__c  emergency_prop          canal_fav  \\\n",
       "0      0033Y00002uNQ4QQAW      Male             0.0  Captacion_digital   \n",
       "1      0033Y00002uNQ4tQAG    Female             0.0        Desconocido   \n",
       "2      0033Y00002uNQ50QAG    Female             0.2               TLMK   \n",
       "3      0033Y00002uNQ55QAG      Male             0.0          Emailings   \n",
       "4      0033Y00002uNQ5JQAW      Male             0.0        Desconocido   \n",
       "...                   ...       ...             ...                ...   \n",
       "77551  0033Y00003fpz3hQAA       NaN             0.0        Desconocido   \n",
       "77552  0033Y00003fqOGEQA2       NaN             0.0        Desconocido   \n",
       "77553  0033Y00003fqPJgQAM       NaN             0.0               TLMK   \n",
       "77554  0033Y00003fqPKoQAM      Male             0.0  Captacion_offline   \n",
       "77555  0033Y00003fqVVlQAM       NaN             0.0  Captacion_digital   \n",
       "\n",
       "       oport_amount_count  oport_amount_avg  oport_amount_stddev  \\\n",
       "0                       4         57.500000            30.686588   \n",
       "1                       4        137.500000            47.871355   \n",
       "2                       5         20.000000             0.000000   \n",
       "3                       3         41.666667            31.754265   \n",
       "4                       4         47.500000            34.034296   \n",
       "...                   ...               ...                  ...   \n",
       "77551                   3         22.000000             3.464102   \n",
       "77552                   6         10.000000             0.000000   \n",
       "77553                   3         43.333333            11.547005   \n",
       "77554                   8          1.150000             0.092582   \n",
       "77555                   3        166.666667            57.735027   \n",
       "\n",
       "       age_at_donation_avg  month_July  month_June  \\\n",
       "0                64.500000         0.0         0.0   \n",
       "1                64.250000         0.0         0.0   \n",
       "2                      NaN         0.0         0.0   \n",
       "3                72.666667         0.0         0.0   \n",
       "4                74.500000         0.0         0.0   \n",
       "...                    ...         ...         ...   \n",
       "77551                  NaN         0.0         0.0   \n",
       "77552                  NaN         0.0         0.0   \n",
       "77553                  NaN         0.0         0.0   \n",
       "77554            79.125000         1.2         0.0   \n",
       "77555                  NaN         0.0         0.0   \n",
       "\n",
       "       MoreThanAvgDonator_Dec_Jan_Feb_quarter  \\\n",
       "0                                           1   \n",
       "1                                           1   \n",
       "2                                           0   \n",
       "3                                           0   \n",
       "4                                           1   \n",
       "...                                       ...   \n",
       "77551                                       1   \n",
       "77552                                       1   \n",
       "77553                                       1   \n",
       "77554                                       0   \n",
       "77555                                       1   \n",
       "\n",
       "       MoreThanAvgDonator_Mar_Apr_May_quarter  \\\n",
       "0                                           1   \n",
       "1                                           1   \n",
       "2                                           1   \n",
       "3                                           1   \n",
       "4                                           0   \n",
       "...                                       ...   \n",
       "77551                                       0   \n",
       "77552                                       0   \n",
       "77553                                       0   \n",
       "77554                                       0   \n",
       "77555                                       0   \n",
       "\n",
       "       MoreThanAvgDonator_Jun_Jul_Aug_quarter  \\\n",
       "0                                           0   \n",
       "1                                           0   \n",
       "2                                           1   \n",
       "3                                           0   \n",
       "4                                           0   \n",
       "...                                       ...   \n",
       "77551                                       0   \n",
       "77552                                       0   \n",
       "77553                                       0   \n",
       "77554                                       0   \n",
       "77555                                       0   \n",
       "\n",
       "       MoreThanAvgDonator_Set_Oct_Nov_quarter  christmas  date_diff_int_avg  \\\n",
       "0                                           0          0         151.666667   \n",
       "1                                           1          0         150.333333   \n",
       "2                                           1          0         374.500000   \n",
       "3                                           0          0         720.000000   \n",
       "4                                           1          0         149.666667   \n",
       "...                                       ...        ...                ...   \n",
       "77551                                       0          1          18.500000   \n",
       "77552                                       1          0          31.600000   \n",
       "77553                                       0          1           0.000000   \n",
       "77554                                       0          0         200.285714   \n",
       "77555                                       0          1          14.000000   \n",
       "\n",
       "       date_diff_int_stddev cluster_labels  \n",
       "0                262.694372      cluster_8  \n",
       "1                112.500370     cluster_10  \n",
       "2                279.987500      cluster_0  \n",
       "3               1016.819551      cluster_6  \n",
       "4                259.230271      cluster_9  \n",
       "...                     ...            ...  \n",
       "77551             26.162951      cluster_2  \n",
       "77552              5.770615      cluster_9  \n",
       "77553              0.000000      cluster_2  \n",
       "77554            146.024786      cluster_6  \n",
       "77555             19.798990      cluster_2  \n",
       "\n",
       "[77556 rows x 18 columns]"
      ]
     },
     "execution_count": 17,
     "metadata": {},
     "output_type": "execute_result"
    }
   ],
   "source": [
    "df"
   ]
  },
  {
   "cell_type": "code",
   "execution_count": 20,
   "metadata": {},
   "outputs": [
    {
     "data": {
      "text/plain": [
       "2"
      ]
     },
     "execution_count": 20,
     "metadata": {},
     "output_type": "execute_result"
    }
   ],
   "source": [
    "pd.to_datetime(\"2023-02-01\").month"
   ]
  },
  {
   "cell_type": "code",
   "execution_count": 29,
   "metadata": {},
   "outputs": [],
   "source": [
    "from datetime import date, timedelta\n",
    "\n",
    "def get_months_between_dates(start_date, end_date):\n",
    "    months = []\n",
    "    current_month = start_date.month\n",
    "    current_year = start_date.year\n",
    "\n",
    "    while current_year < end_date.year or (current_year == end_date.year and current_month <= end_date.month):\n",
    "        months.append(date(current_year, current_month, 1))\n",
    "        current_month += 1\n",
    "\n",
    "        if current_month > 12:\n",
    "            current_month = 1\n",
    "            current_year += 1\n",
    "\n",
    "    return months"
   ]
  },
  {
   "cell_type": "code",
   "execution_count": 33,
   "metadata": {},
   "outputs": [
    {
     "data": {
      "text/plain": [
       "'[1, 2, 3, 4, 5, 6, 7, 8, 9, 10, 11, 12, 1, 2]'"
      ]
     },
     "execution_count": 33,
     "metadata": {},
     "output_type": "execute_result"
    }
   ],
   "source": [
    "str(get_months_between_dates(date(2022, 1, 1), date(2023, 2, 13)))"
   ]
  },
  {
   "cell_type": "code",
   "execution_count": 71,
   "metadata": {},
   "outputs": [
    {
     "name": "stderr",
     "output_type": "stream",
     "text": [
      "/tmp/ipykernel_6021/2954538483.py:1: FutureWarning:\n",
      "\n",
      "The default value of numeric_only in DataFrameGroupBy.sum is deprecated. In a future version, numeric_only will default to False. Either specify numeric_only or select only columns which should be valid for the function.\n",
      "\n"
     ]
    }
   ],
   "source": [
    "quarters = df.groupby(\"cluster_labels\").sum().reset_index()[\n",
    "    [\n",
    "        \"cluster_labels\",\n",
    "        \"MoreThanAvgDonator_Dec_Jan_Feb_quarter\", \n",
    "        \"MoreThanAvgDonator_Mar_Apr_May_quarter\", \n",
    "        \"MoreThanAvgDonator_Jun_Jul_Aug_quarter\",\n",
    "        \"MoreThanAvgDonator_Set_Oct_Nov_quarter\"\n",
    "    ]\n",
    "]"
   ]
  },
  {
   "cell_type": "code",
   "execution_count": 72,
   "metadata": {},
   "outputs": [],
   "source": [
    "quarters_melted = pd.melt(quarters, id_vars=[\"cluster_labels\"], var_name=\"quarter_category\", value_name=\"quarter_value\")\n"
   ]
  },
  {
   "cell_type": "code",
   "execution_count": 80,
   "metadata": {},
   "outputs": [
    {
     "data": {
      "application/vnd.plotly.v1+json": {
       "config": {
        "plotlyServerURL": "https://plot.ly"
       },
       "data": [
        {
         "hovertemplate": "quarter_category=%{y}<br>cluster_labels=%{x}<br>quarter_value=%{marker.size}<extra></extra>",
         "legendgroup": "MoreThanAvgDonator_Dec_Jan_Feb_quarter",
         "marker": {
          "color": "#000001",
          "size": [
           0,
           6230,
           5274,
           9533,
           0,
           16027,
           5010,
           0,
           5523,
           2869,
           3454,
           265
          ],
          "sizemode": "area",
          "sizeref": 40.0675,
          "symbol": "circle"
         },
         "mode": "markers",
         "name": "MoreThanAvgDonator_Dec_Jan_Feb_quarter",
         "orientation": "v",
         "showlegend": true,
         "type": "scatter",
         "x": [
          "cluster_0",
          "cluster_1",
          "cluster_10",
          "cluster_2",
          "cluster_3",
          "cluster_4",
          "cluster_5",
          "cluster_6",
          "cluster_7",
          "cluster_8",
          "cluster_9",
          "cluster_outliers"
         ],
         "xaxis": "x",
         "y": [
          "MoreThanAvgDonator_Dec_Jan_Feb_quarter",
          "MoreThanAvgDonator_Dec_Jan_Feb_quarter",
          "MoreThanAvgDonator_Dec_Jan_Feb_quarter",
          "MoreThanAvgDonator_Dec_Jan_Feb_quarter",
          "MoreThanAvgDonator_Dec_Jan_Feb_quarter",
          "MoreThanAvgDonator_Dec_Jan_Feb_quarter",
          "MoreThanAvgDonator_Dec_Jan_Feb_quarter",
          "MoreThanAvgDonator_Dec_Jan_Feb_quarter",
          "MoreThanAvgDonator_Dec_Jan_Feb_quarter",
          "MoreThanAvgDonator_Dec_Jan_Feb_quarter",
          "MoreThanAvgDonator_Dec_Jan_Feb_quarter",
          "MoreThanAvgDonator_Dec_Jan_Feb_quarter"
         ],
         "yaxis": "y"
        },
        {
         "hovertemplate": "quarter_category=%{y}<br>cluster_labels=%{x}<br>quarter_value=%{marker.size}<extra></extra>",
         "legendgroup": "MoreThanAvgDonator_Mar_Apr_May_quarter",
         "marker": {
          "color": "#000002",
          "size": [
           4000,
           4578,
           5274,
           1203,
           3744,
           16027,
           4396,
           1295,
           0,
           2869,
           0,
           425
          ],
          "sizemode": "area",
          "sizeref": 40.0675,
          "symbol": "circle"
         },
         "mode": "markers",
         "name": "MoreThanAvgDonator_Mar_Apr_May_quarter",
         "orientation": "v",
         "showlegend": true,
         "type": "scatter",
         "x": [
          "cluster_0",
          "cluster_1",
          "cluster_10",
          "cluster_2",
          "cluster_3",
          "cluster_4",
          "cluster_5",
          "cluster_6",
          "cluster_7",
          "cluster_8",
          "cluster_9",
          "cluster_outliers"
         ],
         "xaxis": "x",
         "y": [
          "MoreThanAvgDonator_Mar_Apr_May_quarter",
          "MoreThanAvgDonator_Mar_Apr_May_quarter",
          "MoreThanAvgDonator_Mar_Apr_May_quarter",
          "MoreThanAvgDonator_Mar_Apr_May_quarter",
          "MoreThanAvgDonator_Mar_Apr_May_quarter",
          "MoreThanAvgDonator_Mar_Apr_May_quarter",
          "MoreThanAvgDonator_Mar_Apr_May_quarter",
          "MoreThanAvgDonator_Mar_Apr_May_quarter",
          "MoreThanAvgDonator_Mar_Apr_May_quarter",
          "MoreThanAvgDonator_Mar_Apr_May_quarter",
          "MoreThanAvgDonator_Mar_Apr_May_quarter",
          "MoreThanAvgDonator_Mar_Apr_May_quarter"
         ],
         "yaxis": "y"
        },
        {
         "hovertemplate": "quarter_category=%{y}<br>cluster_labels=%{x}<br>quarter_value=%{marker.size}<extra></extra>",
         "legendgroup": "MoreThanAvgDonator_Jun_Jul_Aug_quarter",
         "marker": {
          "color": "#000003",
          "size": [
           2516,
           7311,
           0,
           1009,
           4856,
           16027,
           1891,
           2704,
           5523,
           0,
           0,
           419
          ],
          "sizemode": "area",
          "sizeref": 40.0675,
          "symbol": "circle"
         },
         "mode": "markers",
         "name": "MoreThanAvgDonator_Jun_Jul_Aug_quarter",
         "orientation": "v",
         "showlegend": true,
         "type": "scatter",
         "x": [
          "cluster_0",
          "cluster_1",
          "cluster_10",
          "cluster_2",
          "cluster_3",
          "cluster_4",
          "cluster_5",
          "cluster_6",
          "cluster_7",
          "cluster_8",
          "cluster_9",
          "cluster_outliers"
         ],
         "xaxis": "x",
         "y": [
          "MoreThanAvgDonator_Jun_Jul_Aug_quarter",
          "MoreThanAvgDonator_Jun_Jul_Aug_quarter",
          "MoreThanAvgDonator_Jun_Jul_Aug_quarter",
          "MoreThanAvgDonator_Jun_Jul_Aug_quarter",
          "MoreThanAvgDonator_Jun_Jul_Aug_quarter",
          "MoreThanAvgDonator_Jun_Jul_Aug_quarter",
          "MoreThanAvgDonator_Jun_Jul_Aug_quarter",
          "MoreThanAvgDonator_Jun_Jul_Aug_quarter",
          "MoreThanAvgDonator_Jun_Jul_Aug_quarter",
          "MoreThanAvgDonator_Jun_Jul_Aug_quarter",
          "MoreThanAvgDonator_Jun_Jul_Aug_quarter",
          "MoreThanAvgDonator_Jun_Jul_Aug_quarter"
         ],
         "yaxis": "y"
        },
        {
         "hovertemplate": "quarter_category=%{y}<br>cluster_labels=%{x}<br>quarter_value=%{marker.size}<extra></extra>",
         "legendgroup": "MoreThanAvgDonator_Set_Oct_Nov_quarter",
         "marker": {
          "color": "#000004",
          "size": [
           3074,
           0,
           5274,
           1194,
           7921,
           16027,
           1524,
           0,
           5523,
           0,
           3448,
           104
          ],
          "sizemode": "area",
          "sizeref": 40.0675,
          "symbol": "circle"
         },
         "mode": "markers",
         "name": "MoreThanAvgDonator_Set_Oct_Nov_quarter",
         "orientation": "v",
         "showlegend": true,
         "type": "scatter",
         "x": [
          "cluster_0",
          "cluster_1",
          "cluster_10",
          "cluster_2",
          "cluster_3",
          "cluster_4",
          "cluster_5",
          "cluster_6",
          "cluster_7",
          "cluster_8",
          "cluster_9",
          "cluster_outliers"
         ],
         "xaxis": "x",
         "y": [
          "MoreThanAvgDonator_Set_Oct_Nov_quarter",
          "MoreThanAvgDonator_Set_Oct_Nov_quarter",
          "MoreThanAvgDonator_Set_Oct_Nov_quarter",
          "MoreThanAvgDonator_Set_Oct_Nov_quarter",
          "MoreThanAvgDonator_Set_Oct_Nov_quarter",
          "MoreThanAvgDonator_Set_Oct_Nov_quarter",
          "MoreThanAvgDonator_Set_Oct_Nov_quarter",
          "MoreThanAvgDonator_Set_Oct_Nov_quarter",
          "MoreThanAvgDonator_Set_Oct_Nov_quarter",
          "MoreThanAvgDonator_Set_Oct_Nov_quarter",
          "MoreThanAvgDonator_Set_Oct_Nov_quarter",
          "MoreThanAvgDonator_Set_Oct_Nov_quarter"
         ],
         "yaxis": "y"
        }
       ],
       "layout": {
        "legend": {
         "itemsizing": "constant",
         "title": {
          "text": "quarter_category"
         },
         "tracegroupgap": 0
        },
        "margin": {
         "t": 60
        },
        "template": {
         "data": {
          "candlestick": [
           {
            "decreasing": {
             "line": {
              "color": "#000033"
             }
            },
            "increasing": {
             "line": {
              "color": "#000032"
             }
            },
            "type": "candlestick"
           }
          ],
          "contour": [
           {
            "colorscale": [
             [
              0,
              "#000011"
             ],
             [
              0.1111111111111111,
              "#000012"
             ],
             [
              0.2222222222222222,
              "#000013"
             ],
             [
              0.3333333333333333,
              "#000014"
             ],
             [
              0.4444444444444444,
              "#000015"
             ],
             [
              0.5555555555555556,
              "#000016"
             ],
             [
              0.6666666666666666,
              "#000017"
             ],
             [
              0.7777777777777778,
              "#000018"
             ],
             [
              0.8888888888888888,
              "#000019"
             ],
             [
              1,
              "#000020"
             ]
            ],
            "type": "contour"
           }
          ],
          "contourcarpet": [
           {
            "colorscale": [
             [
              0,
              "#000011"
             ],
             [
              0.1111111111111111,
              "#000012"
             ],
             [
              0.2222222222222222,
              "#000013"
             ],
             [
              0.3333333333333333,
              "#000014"
             ],
             [
              0.4444444444444444,
              "#000015"
             ],
             [
              0.5555555555555556,
              "#000016"
             ],
             [
              0.6666666666666666,
              "#000017"
             ],
             [
              0.7777777777777778,
              "#000018"
             ],
             [
              0.8888888888888888,
              "#000019"
             ],
             [
              1,
              "#000020"
             ]
            ],
            "type": "contourcarpet"
           }
          ],
          "heatmap": [
           {
            "colorscale": [
             [
              0,
              "#000011"
             ],
             [
              0.1111111111111111,
              "#000012"
             ],
             [
              0.2222222222222222,
              "#000013"
             ],
             [
              0.3333333333333333,
              "#000014"
             ],
             [
              0.4444444444444444,
              "#000015"
             ],
             [
              0.5555555555555556,
              "#000016"
             ],
             [
              0.6666666666666666,
              "#000017"
             ],
             [
              0.7777777777777778,
              "#000018"
             ],
             [
              0.8888888888888888,
              "#000019"
             ],
             [
              1,
              "#000020"
             ]
            ],
            "type": "heatmap"
           }
          ],
          "histogram2d": [
           {
            "colorscale": [
             [
              0,
              "#000011"
             ],
             [
              0.1111111111111111,
              "#000012"
             ],
             [
              0.2222222222222222,
              "#000013"
             ],
             [
              0.3333333333333333,
              "#000014"
             ],
             [
              0.4444444444444444,
              "#000015"
             ],
             [
              0.5555555555555556,
              "#000016"
             ],
             [
              0.6666666666666666,
              "#000017"
             ],
             [
              0.7777777777777778,
              "#000018"
             ],
             [
              0.8888888888888888,
              "#000019"
             ],
             [
              1,
              "#000020"
             ]
            ],
            "type": "histogram2d"
           }
          ],
          "icicle": [
           {
            "textfont": {
             "color": "white"
            },
            "type": "icicle"
           }
          ],
          "sankey": [
           {
            "textfont": {
             "color": "#000036"
            },
            "type": "sankey"
           }
          ],
          "scatter": [
           {
            "marker": {
             "line": {
              "width": 0
             }
            },
            "type": "scatter"
           }
          ],
          "table": [
           {
            "cells": {
             "fill": {
              "color": "#000038"
             },
             "font": {
              "color": "#000037"
             },
             "line": {
              "color": "#000039"
             }
            },
            "header": {
             "fill": {
              "color": "#000040"
             },
             "font": {
              "color": "#000036"
             },
             "line": {
              "color": "#000039"
             }
            },
            "type": "table"
           }
          ],
          "waterfall": [
           {
            "connector": {
             "line": {
              "color": "#000036",
              "width": 2
             }
            },
            "decreasing": {
             "marker": {
              "color": "#000033"
             }
            },
            "increasing": {
             "marker": {
              "color": "#000032"
             }
            },
            "totals": {
             "marker": {
              "color": "#000034"
             }
            },
            "type": "waterfall"
           }
          ]
         },
         "layout": {
          "coloraxis": {
           "colorscale": [
            [
             0,
             "#000011"
            ],
            [
             0.1111111111111111,
             "#000012"
            ],
            [
             0.2222222222222222,
             "#000013"
            ],
            [
             0.3333333333333333,
             "#000014"
            ],
            [
             0.4444444444444444,
             "#000015"
            ],
            [
             0.5555555555555556,
             "#000016"
            ],
            [
             0.6666666666666666,
             "#000017"
            ],
            [
             0.7777777777777778,
             "#000018"
            ],
            [
             0.8888888888888888,
             "#000019"
            ],
            [
             1,
             "#000020"
            ]
           ]
          },
          "colorscale": {
           "diverging": [
            [
             0,
             "#000021"
            ],
            [
             0.1,
             "#000022"
            ],
            [
             0.2,
             "#000023"
            ],
            [
             0.3,
             "#000024"
            ],
            [
             0.4,
             "#000025"
            ],
            [
             0.5,
             "#000026"
            ],
            [
             0.6,
             "#000027"
            ],
            [
             0.7,
             "#000028"
            ],
            [
             0.8,
             "#000029"
            ],
            [
             0.9,
             "#000030"
            ],
            [
             1,
             "#000031"
            ]
           ],
           "sequential": [
            [
             0,
             "#000011"
            ],
            [
             0.1111111111111111,
             "#000012"
            ],
            [
             0.2222222222222222,
             "#000013"
            ],
            [
             0.3333333333333333,
             "#000014"
            ],
            [
             0.4444444444444444,
             "#000015"
            ],
            [
             0.5555555555555556,
             "#000016"
            ],
            [
             0.6666666666666666,
             "#000017"
            ],
            [
             0.7777777777777778,
             "#000018"
            ],
            [
             0.8888888888888888,
             "#000019"
            ],
            [
             1,
             "#000020"
            ]
           ],
           "sequentialminus": [
            [
             0,
             "#000011"
            ],
            [
             0.1111111111111111,
             "#000012"
            ],
            [
             0.2222222222222222,
             "#000013"
            ],
            [
             0.3333333333333333,
             "#000014"
            ],
            [
             0.4444444444444444,
             "#000015"
            ],
            [
             0.5555555555555556,
             "#000016"
            ],
            [
             0.6666666666666666,
             "#000017"
            ],
            [
             0.7777777777777778,
             "#000018"
            ],
            [
             0.8888888888888888,
             "#000019"
            ],
            [
             1,
             "#000020"
            ]
           ]
          },
          "colorway": [
           "#000001",
           "#000002",
           "#000003",
           "#000004",
           "#000005",
           "#000006",
           "#000007",
           "#000008",
           "#000009",
           "#000010"
          ]
         }
        },
        "xaxis": {
         "anchor": "y",
         "domain": [
          0,
          1
         ],
         "title": {
          "text": "cluster_labels"
         }
        },
        "yaxis": {
         "anchor": "x",
         "categoryarray": [
          "MoreThanAvgDonator_Set_Oct_Nov_quarter",
          "MoreThanAvgDonator_Jun_Jul_Aug_quarter",
          "MoreThanAvgDonator_Mar_Apr_May_quarter",
          "MoreThanAvgDonator_Dec_Jan_Feb_quarter"
         ],
         "categoryorder": "array",
         "domain": [
          0,
          1
         ],
         "title": {
          "text": "quarter_category"
         }
        }
       }
      }
     },
     "metadata": {},
     "output_type": "display_data"
    }
   ],
   "source": [
    "fig = px.scatter(quarters_melted, x=\"cluster_labels\", y=\"quarter_category\", color=\"quarter_category\", size=\"quarter_value\")\n",
    "fig.show()"
   ]
  },
  {
   "cell_type": "code",
   "execution_count": 76,
   "metadata": {},
   "outputs": [
    {
     "data": {
      "text/html": [
       "<div>\n",
       "<style scoped>\n",
       "    .dataframe tbody tr th:only-of-type {\n",
       "        vertical-align: middle;\n",
       "    }\n",
       "\n",
       "    .dataframe tbody tr th {\n",
       "        vertical-align: top;\n",
       "    }\n",
       "\n",
       "    .dataframe thead th {\n",
       "        text-align: right;\n",
       "    }\n",
       "</style>\n",
       "<table border=\"1\" class=\"dataframe\">\n",
       "  <thead>\n",
       "    <tr style=\"text-align: right;\">\n",
       "      <th></th>\n",
       "      <th>cluster_labels</th>\n",
       "      <th>MoreThanAvgDonator_Dec_Jan_Feb_quarter</th>\n",
       "      <th>MoreThanAvgDonator_Mar_Apr_May_quarter</th>\n",
       "      <th>MoreThanAvgDonator_Jun_Jul_Aug_quarter</th>\n",
       "      <th>MoreThanAvgDonator_Set_Oct_Nov_quarter</th>\n",
       "    </tr>\n",
       "  </thead>\n",
       "  <tbody>\n",
       "    <tr>\n",
       "      <th>0</th>\n",
       "      <td>cluster_0</td>\n",
       "      <td>0</td>\n",
       "      <td>4000</td>\n",
       "      <td>2516</td>\n",
       "      <td>3074</td>\n",
       "    </tr>\n",
       "    <tr>\n",
       "      <th>1</th>\n",
       "      <td>cluster_1</td>\n",
       "      <td>6230</td>\n",
       "      <td>4578</td>\n",
       "      <td>7311</td>\n",
       "      <td>0</td>\n",
       "    </tr>\n",
       "    <tr>\n",
       "      <th>2</th>\n",
       "      <td>cluster_10</td>\n",
       "      <td>5274</td>\n",
       "      <td>5274</td>\n",
       "      <td>0</td>\n",
       "      <td>5274</td>\n",
       "    </tr>\n",
       "    <tr>\n",
       "      <th>3</th>\n",
       "      <td>cluster_2</td>\n",
       "      <td>9533</td>\n",
       "      <td>1203</td>\n",
       "      <td>1009</td>\n",
       "      <td>1194</td>\n",
       "    </tr>\n",
       "    <tr>\n",
       "      <th>4</th>\n",
       "      <td>cluster_3</td>\n",
       "      <td>0</td>\n",
       "      <td>3744</td>\n",
       "      <td>4856</td>\n",
       "      <td>7921</td>\n",
       "    </tr>\n",
       "  </tbody>\n",
       "</table>\n",
       "</div>"
      ],
      "text/plain": [
       "  cluster_labels  MoreThanAvgDonator_Dec_Jan_Feb_quarter  \\\n",
       "0      cluster_0                                       0   \n",
       "1      cluster_1                                    6230   \n",
       "2     cluster_10                                    5274   \n",
       "3      cluster_2                                    9533   \n",
       "4      cluster_3                                       0   \n",
       "\n",
       "   MoreThanAvgDonator_Mar_Apr_May_quarter  \\\n",
       "0                                    4000   \n",
       "1                                    4578   \n",
       "2                                    5274   \n",
       "3                                    1203   \n",
       "4                                    3744   \n",
       "\n",
       "   MoreThanAvgDonator_Jun_Jul_Aug_quarter  \\\n",
       "0                                    2516   \n",
       "1                                    7311   \n",
       "2                                       0   \n",
       "3                                    1009   \n",
       "4                                    4856   \n",
       "\n",
       "   MoreThanAvgDonator_Set_Oct_Nov_quarter  \n",
       "0                                    3074  \n",
       "1                                       0  \n",
       "2                                    5274  \n",
       "3                                    1194  \n",
       "4                                    7921  "
      ]
     },
     "execution_count": 76,
     "metadata": {},
     "output_type": "execute_result"
    }
   ],
   "source": []
  },
  {
   "cell_type": "code",
   "execution_count": null,
   "metadata": {},
   "outputs": [],
   "source": []
  },
  {
   "cell_type": "code",
   "execution_count": null,
   "metadata": {},
   "outputs": [],
   "source": []
  },
  {
   "cell_type": "code",
   "execution_count": null,
   "metadata": {},
   "outputs": [],
   "source": []
  }
 ],
 "metadata": {
  "kernelspec": {
   "display_name": "rec",
   "language": "python",
   "name": "python3"
  },
  "language_info": {
   "codemirror_mode": {
    "name": "ipython",
    "version": 3
   },
   "file_extension": ".py",
   "mimetype": "text/x-python",
   "name": "python",
   "nbconvert_exporter": "python",
   "pygments_lexer": "ipython3",
   "version": "3.11.2"
  },
  "orig_nbformat": 4
 },
 "nbformat": 4,
 "nbformat_minor": 2
}
