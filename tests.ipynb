{
 "cells": [
  {
   "cell_type": "code",
   "execution_count": 7,
   "metadata": {},
   "outputs": [],
   "source": [
    "import pandas as pd\n",
    "import plotly.graph_objects as go\n",
    "import streamlit_authenticator as stauth"
   ]
  },
  {
   "cell_type": "code",
   "execution_count": 8,
   "metadata": {},
   "outputs": [],
   "source": [
    "heatm = pd.read_csv(\"heatmap_model1.csv\")"
   ]
  },
  {
   "cell_type": "code",
   "execution_count": 9,
   "metadata": {},
   "outputs": [
    {
     "data": {
      "application/vnd.plotly.v1+json": {
       "config": {
        "plotlyServerURL": "https://plot.ly"
       },
       "data": [
        {
         "colorscale": [
          [
           0,
           "#440154"
          ],
          [
           0.1111111111111111,
           "#482878"
          ],
          [
           0.2222222222222222,
           "#3e4989"
          ],
          [
           0.3333333333333333,
           "#31688e"
          ],
          [
           0.4444444444444444,
           "#26828e"
          ],
          [
           0.5555555555555556,
           "#1f9e89"
          ],
          [
           0.6666666666666666,
           "#35b779"
          ],
          [
           0.7777777777777778,
           "#6ece58"
          ],
          [
           0.8888888888888888,
           "#b5de2b"
          ],
          [
           1,
           "#fde725"
          ]
         ],
         "type": "heatmap",
         "x": [
          "MoreThanAvgDonator_Dec_Jan_Feb_quarter",
          "MoreThanAvgDonator_Jun_Jul_Aug_quarter",
          "MoreThanAvgDonator_Mar_Apr_May_quarter",
          "MoreThanAvgDonator_Set_Oct_Nov_quarter",
          "canal_fav=Captacion_digital",
          "canal_fav=Captacion_offline",
          "canal_fav=Desconocido",
          "canal_fav=Emailings",
          "canal_fav=Mailing",
          "canal_fav=Officers",
          "canal_fav=Otros",
          "canal_fav=TLMK",
          "christmas",
          "emergency_prop",
          "oport_amount_count"
         ],
         "y": [
          "cluster_0",
          "cluster_1",
          "cluster_10",
          "cluster_11",
          "cluster_2",
          "cluster_3",
          "cluster_4",
          "cluster_5",
          "cluster_6",
          "cluster_7",
          "cluster_8",
          "cluster_9",
          "cluster_outliers"
         ],
         "z": [
          [
           0,
           0,
           0.3101543784934788,
           0,
           null,
           null,
           null,
           null,
           null,
           null,
           null,
           null,
           0,
           0.001724512991814,
           2.843225978174075
          ],
          [
           1,
           1,
           1,
           1,
           null,
           null,
           null,
           null,
           null,
           null,
           null,
           null,
           0.00006203858800173708,
           0.0558778394884587,
           15.360568273466097
          ],
          [
           1,
           0,
           1,
           1,
           null,
           null,
           null,
           null,
           null,
           null,
           null,
           null,
           0,
           0.0972230000094092,
           5.36077519379845
          ],
          [
           0,
           0,
           0.4404787812840043,
           1,
           null,
           null,
           null,
           null,
           null,
           null,
           null,
           null,
           0,
           0.0146745305055168,
           2.89651795429815
          ],
          [
           0.7729349067377237,
           0.050199847735059,
           0.0620955462504758,
           0.0561476969927674,
           null,
           null,
           null,
           null,
           null,
           null,
           null,
           null,
           1,
           0.0047923537799891,
           3.2709364293871337
          ],
          [
           1,
           1,
           1,
           0,
           null,
           null,
           null,
           null,
           null,
           null,
           null,
           null,
           0,
           0.0863349609103098,
           5.923705136471094
          ],
          [
           0,
           1,
           1,
           0.5294301327088212,
           null,
           null,
           null,
           null,
           null,
           null,
           null,
           null,
           0,
           0.0582396190925753,
           4.648711943793911
          ],
          [
           0.3179597971068946,
           0.3188991170392635,
           0.8065000939319933,
           0.262258125117415,
           null,
           null,
           null,
           null,
           null,
           null,
           null,
           null,
           0.0054480556077399,
           0.4583556992666066,
           2.3680255495021605
          ],
          [
           0,
           1,
           0,
           0.5230318257956449,
           null,
           null,
           null,
           null,
           null,
           null,
           null,
           null,
           0,
           0.0156573919239417,
           3.693132328308208
          ],
          [
           1,
           0,
           0,
           0.9990815857951936,
           null,
           null,
           null,
           null,
           null,
           null,
           null,
           null,
           0,
           0.0003112403694066024,
           3.0754630338282567
          ],
          [
           1,
           1,
           0,
           0.4987017483122728,
           null,
           null,
           null,
           null,
           null,
           null,
           null,
           null,
           0,
           0.0295378145516355,
           4.565345334948935
          ],
          [
           1,
           0,
           0.9998520928856678,
           0,
           null,
           null,
           null,
           null,
           null,
           null,
           null,
           null,
           0,
           0.0336897555655094,
           3.266676527140956
          ],
          [
           0.5174973488865323,
           0.6129374337221634,
           0.5440084835630965,
           0.2555673382820784,
           null,
           null,
           null,
           null,
           null,
           null,
           null,
           null,
           0.5185577942735949,
           0.3962882533611029,
           5.5397667020148464
          ]
         ]
        }
       ],
       "layout": {
        "template": {
         "data": {
          "candlestick": [
           {
            "decreasing": {
             "line": {
              "color": "#000033"
             }
            },
            "increasing": {
             "line": {
              "color": "#000032"
             }
            },
            "type": "candlestick"
           }
          ],
          "contour": [
           {
            "colorscale": [
             [
              0,
              "#000011"
             ],
             [
              0.1111111111111111,
              "#000012"
             ],
             [
              0.2222222222222222,
              "#000013"
             ],
             [
              0.3333333333333333,
              "#000014"
             ],
             [
              0.4444444444444444,
              "#000015"
             ],
             [
              0.5555555555555556,
              "#000016"
             ],
             [
              0.6666666666666666,
              "#000017"
             ],
             [
              0.7777777777777778,
              "#000018"
             ],
             [
              0.8888888888888888,
              "#000019"
             ],
             [
              1,
              "#000020"
             ]
            ],
            "type": "contour"
           }
          ],
          "contourcarpet": [
           {
            "colorscale": [
             [
              0,
              "#000011"
             ],
             [
              0.1111111111111111,
              "#000012"
             ],
             [
              0.2222222222222222,
              "#000013"
             ],
             [
              0.3333333333333333,
              "#000014"
             ],
             [
              0.4444444444444444,
              "#000015"
             ],
             [
              0.5555555555555556,
              "#000016"
             ],
             [
              0.6666666666666666,
              "#000017"
             ],
             [
              0.7777777777777778,
              "#000018"
             ],
             [
              0.8888888888888888,
              "#000019"
             ],
             [
              1,
              "#000020"
             ]
            ],
            "type": "contourcarpet"
           }
          ],
          "heatmap": [
           {
            "colorscale": [
             [
              0,
              "#000011"
             ],
             [
              0.1111111111111111,
              "#000012"
             ],
             [
              0.2222222222222222,
              "#000013"
             ],
             [
              0.3333333333333333,
              "#000014"
             ],
             [
              0.4444444444444444,
              "#000015"
             ],
             [
              0.5555555555555556,
              "#000016"
             ],
             [
              0.6666666666666666,
              "#000017"
             ],
             [
              0.7777777777777778,
              "#000018"
             ],
             [
              0.8888888888888888,
              "#000019"
             ],
             [
              1,
              "#000020"
             ]
            ],
            "type": "heatmap"
           }
          ],
          "histogram2d": [
           {
            "colorscale": [
             [
              0,
              "#000011"
             ],
             [
              0.1111111111111111,
              "#000012"
             ],
             [
              0.2222222222222222,
              "#000013"
             ],
             [
              0.3333333333333333,
              "#000014"
             ],
             [
              0.4444444444444444,
              "#000015"
             ],
             [
              0.5555555555555556,
              "#000016"
             ],
             [
              0.6666666666666666,
              "#000017"
             ],
             [
              0.7777777777777778,
              "#000018"
             ],
             [
              0.8888888888888888,
              "#000019"
             ],
             [
              1,
              "#000020"
             ]
            ],
            "type": "histogram2d"
           }
          ],
          "icicle": [
           {
            "textfont": {
             "color": "white"
            },
            "type": "icicle"
           }
          ],
          "sankey": [
           {
            "textfont": {
             "color": "#000036"
            },
            "type": "sankey"
           }
          ],
          "scatter": [
           {
            "marker": {
             "line": {
              "width": 0
             }
            },
            "type": "scatter"
           }
          ],
          "table": [
           {
            "cells": {
             "fill": {
              "color": "#000038"
             },
             "font": {
              "color": "#000037"
             },
             "line": {
              "color": "#000039"
             }
            },
            "header": {
             "fill": {
              "color": "#000040"
             },
             "font": {
              "color": "#000036"
             },
             "line": {
              "color": "#000039"
             }
            },
            "type": "table"
           }
          ],
          "waterfall": [
           {
            "connector": {
             "line": {
              "color": "#000036",
              "width": 2
             }
            },
            "decreasing": {
             "marker": {
              "color": "#000033"
             }
            },
            "increasing": {
             "marker": {
              "color": "#000032"
             }
            },
            "totals": {
             "marker": {
              "color": "#000034"
             }
            },
            "type": "waterfall"
           }
          ]
         },
         "layout": {
          "coloraxis": {
           "colorscale": [
            [
             0,
             "#000011"
            ],
            [
             0.1111111111111111,
             "#000012"
            ],
            [
             0.2222222222222222,
             "#000013"
            ],
            [
             0.3333333333333333,
             "#000014"
            ],
            [
             0.4444444444444444,
             "#000015"
            ],
            [
             0.5555555555555556,
             "#000016"
            ],
            [
             0.6666666666666666,
             "#000017"
            ],
            [
             0.7777777777777778,
             "#000018"
            ],
            [
             0.8888888888888888,
             "#000019"
            ],
            [
             1,
             "#000020"
            ]
           ]
          },
          "colorscale": {
           "diverging": [
            [
             0,
             "#000021"
            ],
            [
             0.1,
             "#000022"
            ],
            [
             0.2,
             "#000023"
            ],
            [
             0.3,
             "#000024"
            ],
            [
             0.4,
             "#000025"
            ],
            [
             0.5,
             "#000026"
            ],
            [
             0.6,
             "#000027"
            ],
            [
             0.7,
             "#000028"
            ],
            [
             0.8,
             "#000029"
            ],
            [
             0.9,
             "#000030"
            ],
            [
             1,
             "#000031"
            ]
           ],
           "sequential": [
            [
             0,
             "#000011"
            ],
            [
             0.1111111111111111,
             "#000012"
            ],
            [
             0.2222222222222222,
             "#000013"
            ],
            [
             0.3333333333333333,
             "#000014"
            ],
            [
             0.4444444444444444,
             "#000015"
            ],
            [
             0.5555555555555556,
             "#000016"
            ],
            [
             0.6666666666666666,
             "#000017"
            ],
            [
             0.7777777777777778,
             "#000018"
            ],
            [
             0.8888888888888888,
             "#000019"
            ],
            [
             1,
             "#000020"
            ]
           ],
           "sequentialminus": [
            [
             0,
             "#000011"
            ],
            [
             0.1111111111111111,
             "#000012"
            ],
            [
             0.2222222222222222,
             "#000013"
            ],
            [
             0.3333333333333333,
             "#000014"
            ],
            [
             0.4444444444444444,
             "#000015"
            ],
            [
             0.5555555555555556,
             "#000016"
            ],
            [
             0.6666666666666666,
             "#000017"
            ],
            [
             0.7777777777777778,
             "#000018"
            ],
            [
             0.8888888888888888,
             "#000019"
            ],
            [
             1,
             "#000020"
            ]
           ]
          },
          "colorway": [
           "#000001",
           "#000002",
           "#000003",
           "#000004",
           "#000005",
           "#000006",
           "#000007",
           "#000008",
           "#000009",
           "#000010"
          ]
         }
        },
        "title": {
         "text": "Cluster Means Heatmap"
        },
        "xaxis": {
         "title": {
          "text": "Feature"
         }
        },
        "yaxis": {
         "title": {
          "text": "Cluster Label"
         }
        }
       }
      }
     },
     "metadata": {},
     "output_type": "display_data"
    }
   ],
   "source": [
    "data_pivoted = heatm.pivot(index='cluster_label', columns='feature', values='mean')\n",
    "\n",
    "# Create the heatmap\n",
    "fig = go.Figure(data=go.Heatmap(\n",
    "                   z=data_pivoted.values,\n",
    "                   x=data_pivoted.columns,\n",
    "                   y=data_pivoted.index,\n",
    "                   colorscale='Viridis'))\n",
    "\n",
    "# Set axis titles and plot title\n",
    "fig.update_layout(title='Cluster Means Heatmap',\n",
    "                  xaxis_title='Feature',\n",
    "                  yaxis_title='Cluster Label')\n",
    "\n",
    "# Show the plot\n",
    "fig.show()"
   ]
  },
  {
   "cell_type": "code",
   "execution_count": 5,
   "metadata": {},
   "outputs": [
    {
     "data": {
      "text/html": [
       "<div>\n",
       "<style scoped>\n",
       "    .dataframe tbody tr th:only-of-type {\n",
       "        vertical-align: middle;\n",
       "    }\n",
       "\n",
       "    .dataframe tbody tr th {\n",
       "        vertical-align: top;\n",
       "    }\n",
       "\n",
       "    .dataframe thead th {\n",
       "        text-align: right;\n",
       "    }\n",
       "</style>\n",
       "<table border=\"1\" class=\"dataframe\">\n",
       "  <thead>\n",
       "    <tr style=\"text-align: right;\">\n",
       "      <th></th>\n",
       "      <th>cluster_label</th>\n",
       "      <th>feature</th>\n",
       "      <th>is_numeric_feature</th>\n",
       "      <th>global_mean</th>\n",
       "      <th>mean</th>\n",
       "      <th>global_std</th>\n",
       "      <th>std</th>\n",
       "      <th>proportion</th>\n",
       "      <th>global_proportion</th>\n",
       "      <th>relative_importance</th>\n",
       "    </tr>\n",
       "  </thead>\n",
       "  <tbody>\n",
       "    <tr>\n",
       "      <th>0</th>\n",
       "      <td>cluster_0</td>\n",
       "      <td>MoreThanAvgDonator_Dec_Jan_Feb_quarter</td>\n",
       "      <td>True</td>\n",
       "      <td>0.567338</td>\n",
       "      <td>0.000000</td>\n",
       "      <td>0.495447</td>\n",
       "      <td>0.000000</td>\n",
       "      <td>NaN</td>\n",
       "      <td>NaN</td>\n",
       "      <td>-408.463826</td>\n",
       "    </tr>\n",
       "    <tr>\n",
       "      <th>1</th>\n",
       "      <td>cluster_0</td>\n",
       "      <td>MoreThanAvgDonator_Set_Oct_Nov_quarter</td>\n",
       "      <td>True</td>\n",
       "      <td>0.455029</td>\n",
       "      <td>0.000000</td>\n",
       "      <td>0.497975</td>\n",
       "      <td>0.000000</td>\n",
       "      <td>NaN</td>\n",
       "      <td>NaN</td>\n",
       "      <td>-325.941523</td>\n",
       "    </tr>\n",
       "    <tr>\n",
       "      <th>2</th>\n",
       "      <td>cluster_0</td>\n",
       "      <td>MoreThanAvgDonator_Jun_Jul_Aug_quarter</td>\n",
       "      <td>True</td>\n",
       "      <td>0.437754</td>\n",
       "      <td>0.000000</td>\n",
       "      <td>0.496112</td>\n",
       "      <td>0.000000</td>\n",
       "      <td>NaN</td>\n",
       "      <td>NaN</td>\n",
       "      <td>-314.745099</td>\n",
       "    </tr>\n",
       "    <tr>\n",
       "      <th>3</th>\n",
       "      <td>cluster_0</td>\n",
       "      <td>christmas</td>\n",
       "      <td>True</td>\n",
       "      <td>0.169478</td>\n",
       "      <td>0.000000</td>\n",
       "      <td>0.375175</td>\n",
       "      <td>0.000000</td>\n",
       "      <td>NaN</td>\n",
       "      <td>NaN</td>\n",
       "      <td>-161.134041</td>\n",
       "    </tr>\n",
       "    <tr>\n",
       "      <th>4</th>\n",
       "      <td>cluster_0</td>\n",
       "      <td>emergency_prop</td>\n",
       "      <td>True</td>\n",
       "      <td>0.067397</td>\n",
       "      <td>0.001725</td>\n",
       "      <td>0.146621</td>\n",
       "      <td>0.017571</td>\n",
       "      <td>NaN</td>\n",
       "      <td>NaN</td>\n",
       "      <td>-150.859862</td>\n",
       "    </tr>\n",
       "    <tr>\n",
       "      <th>5</th>\n",
       "      <td>cluster_0</td>\n",
       "      <td>canal_fav=Mailing</td>\n",
       "      <td>False</td>\n",
       "      <td>NaN</td>\n",
       "      <td>NaN</td>\n",
       "      <td>NaN</td>\n",
       "      <td>NaN</td>\n",
       "      <td>0.012111</td>\n",
       "      <td>0.164573</td>\n",
       "      <td>-111.293094</td>\n",
       "    </tr>\n",
       "    <tr>\n",
       "      <th>6</th>\n",
       "      <td>cluster_0</td>\n",
       "      <td>oport_amount_count</td>\n",
       "      <td>True</td>\n",
       "      <td>5.085407</td>\n",
       "      <td>2.843226</td>\n",
       "      <td>7.978487</td>\n",
       "      <td>1.636548</td>\n",
       "      <td>NaN</td>\n",
       "      <td>NaN</td>\n",
       "      <td>-86.077900</td>\n",
       "    </tr>\n",
       "    <tr>\n",
       "      <th>7</th>\n",
       "      <td>cluster_0</td>\n",
       "      <td>canal_fav=TLMK</td>\n",
       "      <td>False</td>\n",
       "      <td>NaN</td>\n",
       "      <td>NaN</td>\n",
       "      <td>NaN</td>\n",
       "      <td>NaN</td>\n",
       "      <td>0.030410</td>\n",
       "      <td>0.152557</td>\n",
       "      <td>-70.780425</td>\n",
       "    </tr>\n",
       "    <tr>\n",
       "      <th>8</th>\n",
       "      <td>cluster_0</td>\n",
       "      <td>canal_fav=Captacion_offline</td>\n",
       "      <td>False</td>\n",
       "      <td>NaN</td>\n",
       "      <td>NaN</td>\n",
       "      <td>NaN</td>\n",
       "      <td>NaN</td>\n",
       "      <td>0.373636</td>\n",
       "      <td>0.120648</td>\n",
       "      <td>62.457827</td>\n",
       "    </tr>\n",
       "    <tr>\n",
       "      <th>9</th>\n",
       "      <td>cluster_0</td>\n",
       "      <td>canal_fav=Officers</td>\n",
       "      <td>False</td>\n",
       "      <td>NaN</td>\n",
       "      <td>NaN</td>\n",
       "      <td>NaN</td>\n",
       "      <td>NaN</td>\n",
       "      <td>0.000133</td>\n",
       "      <td>0.019845</td>\n",
       "      <td>-49.015563</td>\n",
       "    </tr>\n",
       "    <tr>\n",
       "      <th>10</th>\n",
       "      <td>cluster_0</td>\n",
       "      <td>MoreThanAvgDonator_Mar_Apr_May_quarter</td>\n",
       "      <td>True</td>\n",
       "      <td>0.467628</td>\n",
       "      <td>0.310154</td>\n",
       "      <td>0.498953</td>\n",
       "      <td>0.462572</td>\n",
       "      <td>NaN</td>\n",
       "      <td>NaN</td>\n",
       "      <td>-39.130718</td>\n",
       "    </tr>\n",
       "    <tr>\n",
       "      <th>11</th>\n",
       "      <td>cluster_0</td>\n",
       "      <td>canal_fav=Emailings</td>\n",
       "      <td>False</td>\n",
       "      <td>NaN</td>\n",
       "      <td>NaN</td>\n",
       "      <td>NaN</td>\n",
       "      <td>NaN</td>\n",
       "      <td>0.032872</td>\n",
       "      <td>0.070262</td>\n",
       "      <td>-23.060571</td>\n",
       "    </tr>\n",
       "    <tr>\n",
       "      <th>12</th>\n",
       "      <td>cluster_0</td>\n",
       "      <td>canal_fav=Desconocido</td>\n",
       "      <td>False</td>\n",
       "      <td>NaN</td>\n",
       "      <td>NaN</td>\n",
       "      <td>NaN</td>\n",
       "      <td>NaN</td>\n",
       "      <td>0.442308</td>\n",
       "      <td>0.356505</td>\n",
       "      <td>20.102974</td>\n",
       "    </tr>\n",
       "    <tr>\n",
       "      <th>13</th>\n",
       "      <td>cluster_0</td>\n",
       "      <td>canal_fav=Otros</td>\n",
       "      <td>False</td>\n",
       "      <td>NaN</td>\n",
       "      <td>NaN</td>\n",
       "      <td>NaN</td>\n",
       "      <td>NaN</td>\n",
       "      <td>0.005590</td>\n",
       "      <td>0.007081</td>\n",
       "      <td>-2.287756</td>\n",
       "    </tr>\n",
       "    <tr>\n",
       "      <th>14</th>\n",
       "      <td>cluster_0</td>\n",
       "      <td>canal_fav=Captacion_digital</td>\n",
       "      <td>False</td>\n",
       "      <td>NaN</td>\n",
       "      <td>NaN</td>\n",
       "      <td>NaN</td>\n",
       "      <td>NaN</td>\n",
       "      <td>0.102941</td>\n",
       "      <td>0.108529</td>\n",
       "      <td>-2.126408</td>\n",
       "    </tr>\n",
       "  </tbody>\n",
       "</table>\n",
       "</div>"
      ],
      "text/plain": [
       "   cluster_label                                 feature  is_numeric_feature  \\\n",
       "0      cluster_0  MoreThanAvgDonator_Dec_Jan_Feb_quarter                True   \n",
       "1      cluster_0  MoreThanAvgDonator_Set_Oct_Nov_quarter                True   \n",
       "2      cluster_0  MoreThanAvgDonator_Jun_Jul_Aug_quarter                True   \n",
       "3      cluster_0                               christmas                True   \n",
       "4      cluster_0                          emergency_prop                True   \n",
       "5      cluster_0                       canal_fav=Mailing               False   \n",
       "6      cluster_0                      oport_amount_count                True   \n",
       "7      cluster_0                          canal_fav=TLMK               False   \n",
       "8      cluster_0             canal_fav=Captacion_offline               False   \n",
       "9      cluster_0                      canal_fav=Officers               False   \n",
       "10     cluster_0  MoreThanAvgDonator_Mar_Apr_May_quarter                True   \n",
       "11     cluster_0                     canal_fav=Emailings               False   \n",
       "12     cluster_0                   canal_fav=Desconocido               False   \n",
       "13     cluster_0                         canal_fav=Otros               False   \n",
       "14     cluster_0             canal_fav=Captacion_digital               False   \n",
       "\n",
       "    global_mean      mean  global_std       std  proportion  \\\n",
       "0      0.567338  0.000000    0.495447  0.000000         NaN   \n",
       "1      0.455029  0.000000    0.497975  0.000000         NaN   \n",
       "2      0.437754  0.000000    0.496112  0.000000         NaN   \n",
       "3      0.169478  0.000000    0.375175  0.000000         NaN   \n",
       "4      0.067397  0.001725    0.146621  0.017571         NaN   \n",
       "5           NaN       NaN         NaN       NaN    0.012111   \n",
       "6      5.085407  2.843226    7.978487  1.636548         NaN   \n",
       "7           NaN       NaN         NaN       NaN    0.030410   \n",
       "8           NaN       NaN         NaN       NaN    0.373636   \n",
       "9           NaN       NaN         NaN       NaN    0.000133   \n",
       "10     0.467628  0.310154    0.498953  0.462572         NaN   \n",
       "11          NaN       NaN         NaN       NaN    0.032872   \n",
       "12          NaN       NaN         NaN       NaN    0.442308   \n",
       "13          NaN       NaN         NaN       NaN    0.005590   \n",
       "14          NaN       NaN         NaN       NaN    0.102941   \n",
       "\n",
       "    global_proportion  relative_importance  \n",
       "0                 NaN          -408.463826  \n",
       "1                 NaN          -325.941523  \n",
       "2                 NaN          -314.745099  \n",
       "3                 NaN          -161.134041  \n",
       "4                 NaN          -150.859862  \n",
       "5            0.164573          -111.293094  \n",
       "6                 NaN           -86.077900  \n",
       "7            0.152557           -70.780425  \n",
       "8            0.120648            62.457827  \n",
       "9            0.019845           -49.015563  \n",
       "10                NaN           -39.130718  \n",
       "11           0.070262           -23.060571  \n",
       "12           0.356505            20.102974  \n",
       "13           0.007081            -2.287756  \n",
       "14           0.108529            -2.126408  "
      ]
     },
     "execution_count": 5,
     "metadata": {},
     "output_type": "execute_result"
    }
   ],
   "source": [
    "heatm.loc[heatm[\"cluster_label\"] == \"cluster_0\"]"
   ]
  },
  {
   "cell_type": "code",
   "execution_count": 17,
   "metadata": {},
   "outputs": [],
   "source": [
    "# Create the paswords:\n",
    "import pickle\n",
    "from pathlib import Path\n",
    "import os\n",
    "names = [\"MSF_name\", \"MSF1_name\"]\n",
    "usernames = [\"MSF\", \"MSF1\"]\n",
    "\n",
    "passwords = [\"abc123\", \"def456\"]\n",
    "hashed_passwords = stauth.Hasher(passwords).generate()"
   ]
  },
  {
   "cell_type": "code",
   "execution_count": 22,
   "metadata": {},
   "outputs": [],
   "source": [
    "file_path = Path(os.path.join(os.getcwd(), \"hashed_pw.pk1\"))"
   ]
  },
  {
   "cell_type": "code",
   "execution_count": 25,
   "metadata": {},
   "outputs": [],
   "source": [
    "hashed_passwords = stauth.Hasher(['MSF1_pasword', 'MSF2_pasword']).generate()"
   ]
  },
  {
   "cell_type": "code",
   "execution_count": 26,
   "metadata": {},
   "outputs": [
    {
     "data": {
      "text/plain": [
       "['$2b$12$7o0WnUR4oG0834gax9Q9ZeuA9X52pn/rz82QtnoQfYpZevxmuYjfm',\n",
       " '$2b$12$vMEC9pEVkYzisp8Eg4C35uiFuDgnvc./IYr4okKWHiqIWlER1Olju']"
      ]
     },
     "execution_count": 26,
     "metadata": {},
     "output_type": "execute_result"
    }
   ],
   "source": [
    "hashed_passwords"
   ]
  },
  {
   "cell_type": "code",
   "execution_count": 4,
   "metadata": {},
   "outputs": [
    {
     "data": {
      "text/plain": [
       "[1, 2, 3, 4, 5, 6, 7, 8, 9, 10]"
      ]
     },
     "execution_count": 4,
     "metadata": {},
     "output_type": "execute_result"
    }
   ],
   "source": [
    "i = 10\n",
    "list(range(1, i+1))"
   ]
  },
  {
   "cell_type": "code",
   "execution_count": null,
   "metadata": {},
   "outputs": [],
   "source": []
  }
 ],
 "metadata": {
  "kernelspec": {
   "display_name": "rec",
   "language": "python",
   "name": "python3"
  },
  "language_info": {
   "codemirror_mode": {
    "name": "ipython",
    "version": 3
   },
   "file_extension": ".py",
   "mimetype": "text/x-python",
   "name": "python",
   "nbconvert_exporter": "python",
   "pygments_lexer": "ipython3",
   "version": "3.11.2"
  },
  "orig_nbformat": 4
 },
 "nbformat": 4,
 "nbformat_minor": 2
}
